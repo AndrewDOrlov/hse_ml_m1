{
 "cells": [
  {
   "cell_type": "markdown",
   "metadata": {},
   "source": [
    "# Дисклеймер\n",
    "Эту тетрадку нужно запускать в колабе или в vast.ai. Не мучатесь с установкой библиотек и с обучением на cpu."
   ]
  },
  {
   "cell_type": "code",
   "execution_count": 1,
   "metadata": {},
   "outputs": [
    {
     "name": "stdout",
     "output_type": "stream",
     "text": [
      "Archive:  data.zip\n",
      "  inflating: avito_data.csv          \n",
      "  inflating: quora.csv               \n",
      "  inflating: __MACOSX/._quora.csv    \n"
     ]
    }
   ],
   "source": [
    "!unzip data.zip"
   ]
  },
  {
   "cell_type": "code",
   "execution_count": 2,
   "metadata": {
    "scrolled": true
   },
   "outputs": [
    {
     "name": "stdout",
     "output_type": "stream",
     "text": [
      "Collecting pandas\n",
      "  Downloading pandas-1.0.3-cp36-cp36m-manylinux1_x86_64.whl (10.0 MB)\n",
      "\u001b[K     |████████████████████████████████| 10.0 MB 10.5 MB/s eta 0:00:01\n",
      "\u001b[?25hCollecting scikit-learn\n",
      "  Downloading scikit_learn-0.22.2.post1-cp36-cp36m-manylinux1_x86_64.whl (7.1 MB)\n",
      "\u001b[K     |████████████████████████████████| 7.1 MB 5.0 MB/s eta 0:00:01\n",
      "\u001b[?25hCollecting matplotlib\n",
      "  Downloading matplotlib-3.2.1-cp36-cp36m-manylinux1_x86_64.whl (12.4 MB)\n",
      "\u001b[K     |████████████████████████████████| 12.4 MB 10.6 MB/s eta 0:00:01\n",
      "\u001b[?25hRequirement already satisfied: numpy>=1.13.3 in /usr/local/lib/python3.6/dist-packages (from pandas) (1.18.2)\n",
      "Requirement already satisfied: python-dateutil>=2.6.1 in /usr/local/lib/python3.6/dist-packages (from pandas) (2.8.1)\n",
      "Collecting pytz>=2017.2\n",
      "  Downloading pytz-2019.3-py2.py3-none-any.whl (509 kB)\n",
      "\u001b[K     |████████████████████████████████| 509 kB 4.6 MB/s eta 0:00:01\n",
      "\u001b[?25hRequirement already satisfied: scipy>=0.17.0 in /usr/local/lib/python3.6/dist-packages (from scikit-learn) (1.4.1)\n",
      "Collecting joblib>=0.11\n",
      "  Downloading joblib-0.14.1-py2.py3-none-any.whl (294 kB)\n",
      "\u001b[K     |████████████████████████████████| 294 kB 7.5 MB/s eta 0:00:01\n",
      "\u001b[?25hCollecting pyparsing!=2.0.4,!=2.1.2,!=2.1.6,>=2.0.1\n",
      "  Downloading pyparsing-2.4.7-py2.py3-none-any.whl (67 kB)\n",
      "\u001b[K     |████████████████████████████████| 67 kB 5.7 MB/s eta 0:00:01\n",
      "\u001b[?25hCollecting cycler>=0.10\n",
      "  Downloading cycler-0.10.0-py2.py3-none-any.whl (6.5 kB)\n",
      "Collecting kiwisolver>=1.0.1\n",
      "  Downloading kiwisolver-1.2.0-cp36-cp36m-manylinux1_x86_64.whl (88 kB)\n",
      "\u001b[K     |████████████████████████████████| 88 kB 5.3 MB/s eta 0:00:01\n",
      "\u001b[?25hRequirement already satisfied: six>=1.5 in /usr/local/lib/python3.6/dist-packages (from python-dateutil>=2.6.1->pandas) (1.14.0)\n",
      "Installing collected packages: pytz, pandas, joblib, scikit-learn, pyparsing, cycler, kiwisolver, matplotlib\n",
      "Successfully installed cycler-0.10.0 joblib-0.14.1 kiwisolver-1.2.0 matplotlib-3.2.1 pandas-1.0.3 pyparsing-2.4.7 pytz-2019.3 scikit-learn-0.22.2.post1\n"
     ]
    }
   ],
   "source": [
    "!pip install pandas scikit-learn matplotlib"
   ]
  },
  {
   "cell_type": "markdown",
   "metadata": {},
   "source": [
    "## Сверточные нейронные сети"
   ]
  },
  {
   "cell_type": "markdown",
   "metadata": {},
   "source": [
    "Несколько полносвязных слоев (с нелинейностями посередине) - это уже полноценная нейронная сеть. Однако это скорее какая-то базовая вещь. Действительно нужен полносвязный слой только в конце сети, а в качестве основных используются сверточные или рекуррентные слои. Главное их отличие (=преимущество) - учитывание структукры данных. В этом семинаре мы попробуем использовать сверточные сети. Лучше всего они работают в картинках, но для текстов их тоже можно применять (они быстрее рекуррентных и могут лучше работать на длинных последовательностях)."
   ]
  },
  {
   "cell_type": "markdown",
   "metadata": {},
   "source": [
    "Про то как работают сверточные слои посмотрите в этом видео - https://www.youtube.com/watch?v=bNb2fEVKeEo\n",
    "\n",
    "Основная идея - использовать много небольших (сильно меньше размера текста или картинки) матриц, которые применяются к кусочкам векторизованного текста/картинки. Между кусочком и матрицей считается близость, и эта близость передается дальше по сети. Т.е. кусочек как-бы **сворачивается** в одно число. \n",
    "\n",
    "Эти небольшие матрицы обучаются на данных и, например, для картинок в них собираются различные паттерны, важные для задачи. Например, для определения рукописных цифр, такие матрицы могут представлять горизонтальные черточки, волнистые линии, кружки и т.д. Есть даже целое направление исследований, которое занимается визуализацией и интерпретацией обученных сверток.\n",
    "\n",
    "Из-за того, что матрицы применяются к кусочкам, а не отедльным элементам, гораздо лучше учитывается структура. "
   ]
  },
  {
   "cell_type": "markdown",
   "metadata": {},
   "source": [
    "## Классификация с помощью CNN"
   ]
  },
  {
   "cell_type": "markdown",
   "metadata": {},
   "source": [
    "Давайте посмотрим, как в тензорфлоу использовать сверточные сети и как их соединять с Embedding и Dense слоями."
   ]
  },
  {
   "cell_type": "markdown",
   "metadata": {},
   "source": [
    "Данные из того же соревнования от Quora - https://www.kaggle.com/c/quora-insincere-questions-classification/overview  \n",
    "В этом соревновании нужно было предсказывать токсичность вопроса."
   ]
  },
  {
   "cell_type": "code",
   "execution_count": 1,
   "metadata": {},
   "outputs": [],
   "source": [
    "import tensorflow as tf"
   ]
  },
  {
   "cell_type": "code",
   "execution_count": 2,
   "metadata": {},
   "outputs": [],
   "source": [
    "import pandas as pd\n",
    "import numpy as np\n",
    "from string import punctuation\n",
    "from sklearn.model_selection import train_test_split\n",
    "from collections import Counter\n",
    "import matplotlib.pyplot as plt\n",
    "%matplotlib inline"
   ]
  },
  {
   "cell_type": "markdown",
   "metadata": {},
   "source": [
    "Предобработка нам тут особо не важна."
   ]
  },
  {
   "cell_type": "code",
   "execution_count": 3,
   "metadata": {},
   "outputs": [],
   "source": [
    "def preprocess(text):\n",
    "    tokens = text.lower().split()\n",
    "    tokens = [token.strip(punctuation) for token in tokens]\n",
    "    return tokens"
   ]
  },
  {
   "cell_type": "markdown",
   "metadata": {},
   "source": [
    "В предыдущей домашке не хватало фмеры. Ее нет в керасе, но можно взять вот такую функцию (взятую со стаковерфлоу)"
   ]
  },
  {
   "cell_type": "code",
   "execution_count": 4,
   "metadata": {},
   "outputs": [],
   "source": [
    "from tensorflow.keras import backend as K\n",
    "def f1(y_true, y_pred):\n",
    "    def recall(y_true, y_pred):\n",
    "        \"\"\"Recall metric.\n",
    "\n",
    "        Only computes a batch-wise average of recall.\n",
    "\n",
    "        Computes the recall, a metric for multi-label classification of\n",
    "        how many relevant items are selected.\n",
    "        \"\"\"\n",
    "        true_positives = K.sum(K.round(K.clip(y_true * y_pred, 0, 1)))\n",
    "        possible_positives = K.sum(K.round(K.clip(y_true, 0, 1)))\n",
    "        recall = true_positives / (possible_positives + K.epsilon())\n",
    "        return recall\n",
    "\n",
    "    def precision(y_true, y_pred):\n",
    "        \"\"\"Precision metric.\n",
    "\n",
    "        Only computes a batch-wise average of precision.\n",
    "\n",
    "        Computes the precision, a metric for multi-label classification of\n",
    "        how many selected items are relevant.\n",
    "        \"\"\"\n",
    "        true_positives = K.sum(K.round(K.clip(y_true * y_pred, 0, 1)))\n",
    "        predicted_positives = K.sum(K.round(K.clip(y_pred, 0, 1)))\n",
    "        precision = true_positives / (predicted_positives + K.epsilon())\n",
    "        return precision\n",
    "    precision = precision(y_true, y_pred)\n",
    "    recall = recall(y_true, y_pred)\n",
    "    return 2*((precision*recall)/(precision+recall+K.epsilon()))"
   ]
  },
  {
   "cell_type": "code",
   "execution_count": 5,
   "metadata": {},
   "outputs": [],
   "source": [
    "quora = pd.read_csv('quora.csv')"
   ]
  },
  {
   "cell_type": "code",
   "execution_count": 6,
   "metadata": {},
   "outputs": [
    {
     "data": {
      "text/html": [
       "<div>\n",
       "<style scoped>\n",
       "    .dataframe tbody tr th:only-of-type {\n",
       "        vertical-align: middle;\n",
       "    }\n",
       "\n",
       "    .dataframe tbody tr th {\n",
       "        vertical-align: top;\n",
       "    }\n",
       "\n",
       "    .dataframe thead th {\n",
       "        text-align: right;\n",
       "    }\n",
       "</style>\n",
       "<table border=\"1\" class=\"dataframe\">\n",
       "  <thead>\n",
       "    <tr style=\"text-align: right;\">\n",
       "      <th></th>\n",
       "      <th>qid</th>\n",
       "      <th>question_text</th>\n",
       "      <th>target</th>\n",
       "    </tr>\n",
       "  </thead>\n",
       "  <tbody>\n",
       "    <tr>\n",
       "      <th>0</th>\n",
       "      <td>00002165364db923c7e6</td>\n",
       "      <td>How did Quebec nationalists see their province...</td>\n",
       "      <td>0</td>\n",
       "    </tr>\n",
       "    <tr>\n",
       "      <th>1</th>\n",
       "      <td>000032939017120e6e44</td>\n",
       "      <td>Do you have an adopted dog, how would you enco...</td>\n",
       "      <td>0</td>\n",
       "    </tr>\n",
       "    <tr>\n",
       "      <th>2</th>\n",
       "      <td>0000412ca6e4628ce2cf</td>\n",
       "      <td>Why does velocity affect time? Does velocity a...</td>\n",
       "      <td>0</td>\n",
       "    </tr>\n",
       "    <tr>\n",
       "      <th>3</th>\n",
       "      <td>000042bf85aa498cd78e</td>\n",
       "      <td>How did Otto von Guericke used the Magdeburg h...</td>\n",
       "      <td>0</td>\n",
       "    </tr>\n",
       "    <tr>\n",
       "      <th>4</th>\n",
       "      <td>0000455dfa3e01eae3af</td>\n",
       "      <td>Can I convert montra helicon D to a mountain b...</td>\n",
       "      <td>0</td>\n",
       "    </tr>\n",
       "    <tr>\n",
       "      <th>...</th>\n",
       "      <td>...</td>\n",
       "      <td>...</td>\n",
       "      <td>...</td>\n",
       "    </tr>\n",
       "    <tr>\n",
       "      <th>1306117</th>\n",
       "      <td>ffffcc4e2331aaf1e41e</td>\n",
       "      <td>What other technical skills do you need as a c...</td>\n",
       "      <td>0</td>\n",
       "    </tr>\n",
       "    <tr>\n",
       "      <th>1306118</th>\n",
       "      <td>ffffd431801e5a2f4861</td>\n",
       "      <td>Does MS in ECE have good job prospects in USA ...</td>\n",
       "      <td>0</td>\n",
       "    </tr>\n",
       "    <tr>\n",
       "      <th>1306119</th>\n",
       "      <td>ffffd48fb36b63db010c</td>\n",
       "      <td>Is foam insulation toxic?</td>\n",
       "      <td>0</td>\n",
       "    </tr>\n",
       "    <tr>\n",
       "      <th>1306120</th>\n",
       "      <td>ffffec519fa37cf60c78</td>\n",
       "      <td>How can one start a research project based on ...</td>\n",
       "      <td>0</td>\n",
       "    </tr>\n",
       "    <tr>\n",
       "      <th>1306121</th>\n",
       "      <td>ffffed09fedb5088744a</td>\n",
       "      <td>Who wins in a battle between a Wolverine and a...</td>\n",
       "      <td>0</td>\n",
       "    </tr>\n",
       "  </tbody>\n",
       "</table>\n",
       "<p>1306122 rows × 3 columns</p>\n",
       "</div>"
      ],
      "text/plain": [
       "                          qid  \\\n",
       "0        00002165364db923c7e6   \n",
       "1        000032939017120e6e44   \n",
       "2        0000412ca6e4628ce2cf   \n",
       "3        000042bf85aa498cd78e   \n",
       "4        0000455dfa3e01eae3af   \n",
       "...                       ...   \n",
       "1306117  ffffcc4e2331aaf1e41e   \n",
       "1306118  ffffd431801e5a2f4861   \n",
       "1306119  ffffd48fb36b63db010c   \n",
       "1306120  ffffec519fa37cf60c78   \n",
       "1306121  ffffed09fedb5088744a   \n",
       "\n",
       "                                             question_text  target  \n",
       "0        How did Quebec nationalists see their province...       0  \n",
       "1        Do you have an adopted dog, how would you enco...       0  \n",
       "2        Why does velocity affect time? Does velocity a...       0  \n",
       "3        How did Otto von Guericke used the Magdeburg h...       0  \n",
       "4        Can I convert montra helicon D to a mountain b...       0  \n",
       "...                                                    ...     ...  \n",
       "1306117  What other technical skills do you need as a c...       0  \n",
       "1306118  Does MS in ECE have good job prospects in USA ...       0  \n",
       "1306119                          Is foam insulation toxic?       0  \n",
       "1306120  How can one start a research project based on ...       0  \n",
       "1306121  Who wins in a battle between a Wolverine and a...       0  \n",
       "\n",
       "[1306122 rows x 3 columns]"
      ]
     },
     "execution_count": 6,
     "metadata": {},
     "output_type": "execute_result"
    }
   ],
   "source": [
    "quora"
   ]
  },
  {
   "cell_type": "markdown",
   "metadata": {},
   "source": [
    "Предобработка точно такая же"
   ]
  },
  {
   "cell_type": "code",
   "execution_count": 7,
   "metadata": {},
   "outputs": [],
   "source": [
    "# словарь\n",
    "vocab = Counter()\n",
    "\n",
    "for text in quora.question_text:\n",
    "    vocab.update(preprocess(text))"
   ]
  },
  {
   "cell_type": "code",
   "execution_count": 8,
   "metadata": {},
   "outputs": [
    {
     "data": {
      "text/plain": [
       "273056"
      ]
     },
     "execution_count": 8,
     "metadata": {},
     "output_type": "execute_result"
    }
   ],
   "source": [
    "len(vocab)"
   ]
  },
  {
   "cell_type": "code",
   "execution_count": 9,
   "metadata": {},
   "outputs": [],
   "source": [
    "# отфильтрованный словарь\n",
    "filtered_vocab = set()\n",
    "\n",
    "for word in vocab:\n",
    "    if vocab[word] > 5:\n",
    "        filtered_vocab.add(word)"
   ]
  },
  {
   "cell_type": "code",
   "execution_count": 10,
   "metadata": {},
   "outputs": [
    {
     "data": {
      "text/plain": [
       "48010"
      ]
     },
     "execution_count": 10,
     "metadata": {},
     "output_type": "execute_result"
    }
   ],
   "source": [
    "len(filtered_vocab)"
   ]
  },
  {
   "cell_type": "code",
   "execution_count": 11,
   "metadata": {},
   "outputs": [],
   "source": [
    "# индексируем слова\n",
    "word2id = {'UNK':1, 'PAD':0}\n",
    "\n",
    "for word in filtered_vocab:\n",
    "    word2id[word] = len(word2id)"
   ]
  },
  {
   "cell_type": "code",
   "execution_count": 12,
   "metadata": {},
   "outputs": [],
   "source": [
    "id2word = {i:word for word, i in word2id.items()}"
   ]
  },
  {
   "cell_type": "code",
   "execution_count": 13,
   "metadata": {},
   "outputs": [],
   "source": [
    "# переводим тексты в последовательности индексов\n",
    "X = []\n",
    "\n",
    "for text in quora.question_text:\n",
    "    tokens = preprocess(text)\n",
    "    ids = [word2id.get(token, 1) for token in tokens]\n",
    "    X.append(ids)"
   ]
  },
  {
   "cell_type": "code",
   "execution_count": 14,
   "metadata": {},
   "outputs": [],
   "source": [
    "MAX_LEN = max(len(x) for x in X)"
   ]
  },
  {
   "cell_type": "markdown",
   "metadata": {},
   "source": [
    "Можно посчитать среднюю или медианную длину, если максимальная кажется слишком большой."
   ]
  },
  {
   "cell_type": "code",
   "execution_count": 15,
   "metadata": {},
   "outputs": [],
   "source": [
    "MEAN_LEN = np.median([len(x) for x in X])"
   ]
  },
  {
   "cell_type": "code",
   "execution_count": 16,
   "metadata": {},
   "outputs": [
    {
     "data": {
      "text/plain": [
       "(134, 11.0)"
      ]
     },
     "execution_count": 16,
     "metadata": {},
     "output_type": "execute_result"
    }
   ],
   "source": [
    "MAX_LEN, MEAN_LEN"
   ]
  },
  {
   "cell_type": "code",
   "execution_count": 17,
   "metadata": {},
   "outputs": [],
   "source": [
    "# MAX_LEN = MEAN_LEN + 5"
   ]
  },
  {
   "cell_type": "code",
   "execution_count": 18,
   "metadata": {},
   "outputs": [],
   "source": [
    "# паддинг\n",
    "X = tf.keras.preprocessing.sequence.pad_sequences(X, maxlen=MAX_LEN)"
   ]
  },
  {
   "cell_type": "code",
   "execution_count": 19,
   "metadata": {},
   "outputs": [
    {
     "data": {
      "text/plain": [
       "(1306122, 134)"
      ]
     },
     "execution_count": 19,
     "metadata": {},
     "output_type": "execute_result"
    }
   ],
   "source": [
    "X.shape"
   ]
  },
  {
   "cell_type": "code",
   "execution_count": 20,
   "metadata": {},
   "outputs": [],
   "source": [
    "y = quora.target.values"
   ]
  },
  {
   "cell_type": "markdown",
   "metadata": {},
   "source": [
    "В этот раз добавим стратификацию, т.к. в данных у нас дисбаланс классов."
   ]
  },
  {
   "cell_type": "code",
   "execution_count": 21,
   "metadata": {},
   "outputs": [],
   "source": [
    "X_train, X_valid, y_train, y_valid = train_test_split(X, y, test_size=0.05, stratify=y)"
   ]
  },
  {
   "cell_type": "markdown",
   "metadata": {},
   "source": [
    "Для сравнения сначала обучим сеть только с помощью Dense слоев."
   ]
  },
  {
   "cell_type": "code",
   "execution_count": 47,
   "metadata": {},
   "outputs": [],
   "source": [
    "inputs = tf.keras.layers.Input(shape=(MAX_LEN,))\n",
    "embeddings = tf.keras.layers.Embedding(input_dim=len(word2id), output_dim=100)(inputs, )\n",
    "mean = tf.keras.layers.Flatten()(embeddings)\n",
    "dense = tf.keras.layers.Dense(64, activation='relu')(mean)\n",
    "outputs = tf.keras.layers.Dense(1, activation='sigmoid')(dense)\n",
    "\n",
    "model = tf.keras.Model(inputs=inputs, outputs=outputs)\n",
    "optimizer = tf.keras.optimizers.Adam(learning_rate=0.001)\n",
    "model.compile(optimizer=optimizer,\n",
    "              loss='binary_crossentropy',\n",
    "              # фмеры тут нет, но есть точность и полнота по отдельности\n",
    "              # name тут нужен для удобства,\n",
    "              # иначе метрика будет называться типа \"Precision_i\"\n",
    "              # и придется менять i в дальнейших визуализациях \n",
    "              metrics=[f1])\n",
    "\n"
   ]
  },
  {
   "cell_type": "code",
   "execution_count": 48,
   "metadata": {
    "scrolled": true
   },
   "outputs": [
    {
     "name": "stdout",
     "output_type": "stream",
     "text": [
      "Epoch 1/5\n",
      "621/621 [==============================] - 48s 78ms/step - loss: 0.1319 - f1: 0.4800 - val_loss: 0.1122 - val_f1: 0.5766\n",
      "Epoch 2/5\n",
      "621/621 [==============================] - 48s 77ms/step - loss: 0.1015 - f1: 0.6327 - val_loss: 0.1130 - val_f1: 0.5986\n",
      "Epoch 3/5\n",
      "621/621 [==============================] - 48s 77ms/step - loss: 0.0861 - f1: 0.7018 - val_loss: 0.1253 - val_f1: 0.5821\n",
      "Epoch 4/5\n",
      "621/621 [==============================] - 48s 77ms/step - loss: 0.0665 - f1: 0.7837 - val_loss: 0.1431 - val_f1: 0.5656\n",
      "Epoch 5/5\n",
      "621/621 [==============================] - 48s 77ms/step - loss: 0.0510 - f1: 0.8411 - val_loss: 0.1692 - val_f1: 0.5685\n"
     ]
    },
    {
     "data": {
      "text/plain": [
       "<tensorflow.python.keras.callbacks.History at 0x7f8f74df5ba8>"
      ]
     },
     "execution_count": 48,
     "metadata": {},
     "output_type": "execute_result"
    }
   ],
   "source": [
    "model.fit(X_train, y_train, \n",
    "          validation_data=(X_valid, y_valid),\n",
    "          batch_size=2000,\n",
    "         epochs=5)"
   ]
  },
  {
   "cell_type": "code",
   "execution_count": 49,
   "metadata": {},
   "outputs": [
    {
     "name": "stdout",
     "output_type": "stream",
     "text": [
      "dict_keys(['loss', 'f1', 'val_loss', 'val_f1'])\n"
     ]
    },
    {
     "data": {
      "image/png": "[encoded data removed]",
      "text/plain": [
       "<Figure size 432x288 with 1 Axes>"
      ]
     },
     "metadata": {
      "needs_background": "light"
     },
     "output_type": "display_data"
    }
   ],
   "source": [
    "print(model.history.history.keys())\n",
    "# summarize history for accuracy\n",
    "plt.plot(model.history.history['f1'])\n",
    "plt.plot(model.history.history['val_f1'])\n",
    "plt.title('model f1')\n",
    "plt.ylabel('f1')\n",
    "plt.xlabel('epoch')\n",
    "plt.legend(['train', 'val'], loc='upper left')\n",
    "plt.show()"
   ]
  },
  {
   "cell_type": "markdown",
   "metadata": {},
   "source": [
    "А теперь попробуем со сверточным слоем. В керасе они называются Conv1D (2D тоже есть, они используются для картинок). Их нужно ставить сразу после Embedding слоя."
   ]
  },
  {
   "cell_type": "code",
   "execution_count": 67,
   "metadata": {},
   "outputs": [],
   "source": [
    "inputs = tf.keras.layers.Input(shape=(MAX_LEN,))\n",
    "embeddings = tf.keras.layers.Embedding(input_dim=len(word2id), output_dim=10)(inputs, )\n",
    "\n",
    "# все остальное точно такое же\n",
    "# возвращает сверточный слой тоже последовательность векторов слегка измененной или такой же длины\n",
    "conv1 = tf.keras.layers.Conv1D(kernel_size=10, filters=32)(embeddings)\n",
    "\n",
    "# выход со сверточного слоя также можно просто конкатенировать\n",
    "concat = tf.keras.layers.Flatten()(conv1)\n",
    "dense = tf.keras.layers.Dense(64, activation='relu')(concat)\n",
    "outputs = tf.keras.layers.Dense(1, activation='sigmoid')(dense)\n",
    "\n",
    "model = tf.keras.Model(inputs=inputs, outputs=outputs)\n",
    "optimizer = tf.keras.optimizers.Adam(learning_rate=0.001)\n",
    "model.compile(optimizer=optimizer,\n",
    "              loss='binary_crossentropy',\n",
    "              metrics=[f1])\n"
   ]
  },
  {
   "cell_type": "code",
   "execution_count": 68,
   "metadata": {},
   "outputs": [
    {
     "name": "stdout",
     "output_type": "stream",
     "text": [
      "Model: \"model_15\"\n",
      "_________________________________________________________________\n",
      "Layer (type)                 Output Shape              Param #   \n",
      "=================================================================\n",
      "input_17 (InputLayer)        [(None, 134)]             0         \n",
      "_________________________________________________________________\n",
      "embedding_16 (Embedding)     (None, 134, 10)           480120    \n",
      "_________________________________________________________________\n",
      "conv1d_17 (Conv1D)           (None, 125, 32)           3232      \n",
      "_________________________________________________________________\n",
      "flatten_15 (Flatten)         (None, 4000)              0         \n",
      "_________________________________________________________________\n",
      "dense_30 (Dense)             (None, 64)                256064    \n",
      "_________________________________________________________________\n",
      "dense_31 (Dense)             (None, 1)                 65        \n",
      "=================================================================\n",
      "Total params: 739,481\n",
      "Trainable params: 739,481\n",
      "Non-trainable params: 0\n",
      "_________________________________________________________________\n"
     ]
    }
   ],
   "source": [
    "model.summary()"
   ]
  },
  {
   "cell_type": "code",
   "execution_count": 69,
   "metadata": {
    "scrolled": true
   },
   "outputs": [
    {
     "name": "stdout",
     "output_type": "stream",
     "text": [
      "Epoch 1/5\n",
      "1241/1241 [==============================] - 10s 8ms/step - loss: 0.1289 - f1: 0.5019 - val_loss: 0.1138 - val_f1: 0.5953\n",
      "Epoch 2/5\n",
      "1241/1241 [==============================] - 10s 8ms/step - loss: 0.1043 - f1: 0.6202 - val_loss: 0.1141 - val_f1: 0.6139\n",
      "Epoch 3/5\n",
      "1241/1241 [==============================] - 11s 9ms/step - loss: 0.0953 - f1: 0.6584 - val_loss: 0.1169 - val_f1: 0.6138\n",
      "Epoch 4/5\n",
      "1241/1241 [==============================] - 10s 8ms/step - loss: 0.0853 - f1: 0.6986 - val_loss: 0.1218 - val_f1: 0.6090\n",
      "Epoch 5/5\n",
      "1241/1241 [==============================] - 10s 8ms/step - loss: 0.0748 - f1: 0.7412 - val_loss: 0.1373 - val_f1: 0.5924\n"
     ]
    },
    {
     "data": {
      "text/plain": [
       "<tensorflow.python.keras.callbacks.History at 0x7f45c7fe8c88>"
      ]
     },
     "execution_count": 69,
     "metadata": {},
     "output_type": "execute_result"
    }
   ],
   "source": [
    "# как выглядит ошибка при слишком большом батче\n",
    "model.fit(X_train, y_train, \n",
    "          validation_data=(X_valid, y_valid),\n",
    "          batch_size=1000,\n",
    "         epochs=5)"
   ]
  },
  {
   "cell_type": "code",
   "execution_count": 70,
   "metadata": {},
   "outputs": [
    {
     "name": "stdout",
     "output_type": "stream",
     "text": [
      "dict_keys(['loss', 'f1', 'val_loss', 'val_f1'])\n"
     ]
    },
    {
     "data": {
      "image/png": "[encoded data removed]",
      "text/plain": [
       "<Figure size 432x288 with 1 Axes>"
      ]
     },
     "metadata": {
      "needs_background": "light"
     },
     "output_type": "display_data"
    }
   ],
   "source": [
    "print(model.history.history.keys())\n",
    "# summarize history for accuracy\n",
    "plt.plot(model.history.history['f1'])\n",
    "plt.plot(model.history.history['val_f1'])\n",
    "plt.title('model f1')\n",
    "plt.ylabel('f1')\n",
    "plt.xlabel('epoch')\n",
    "plt.legend(['train', 'val'], loc='upper left')\n",
    "plt.show()"
   ]
  },
  {
   "cell_type": "markdown",
   "metadata": {},
   "source": [
    "Сверточные слои можно накладывать друг на друга."
   ]
  },
  {
   "cell_type": "markdown",
   "metadata": {},
   "source": [
    "Давайте еще разберем параметры:  \n",
    "    **kernel_size** - это размер кусочков, к которым мы применяем сверточные матрицы (похоже на размер нграмма)   \n",
    "    **filters** - количество матриц свертки  (это как бы размерность до которой будет сжат или развернут вектор)    \n",
    "    **stride** - шаг по которому выбираются кусочки из последовательности (это как параметр шаг в функции range в питоне)  "
   ]
  },
  {
   "cell_type": "code",
   "execution_count": 60,
   "metadata": {},
   "outputs": [],
   "source": [
    "inputs = tf.keras.layers.Input(shape=(MAX_LEN,))\n",
    "embeddings = tf.keras.layers.Embedding(input_dim=len(word2id), output_dim=100)(inputs, )\n",
    "conv1 = tf.keras.layers.Conv1D(kernel_size=5, filters=32, strides=1)(embeddings)\n",
    "conv2 = tf.keras.layers.Conv1D(kernel_size=5, filters=32, strides=1, activation='relu')(conv1)\n",
    "concat = tf.keras.layers.Flatten()(conv2)\n",
    "dense = tf.keras.layers.Dense(64, activation='relu')(concat)\n",
    "outputs = tf.keras.layers.Dense(1, activation='sigmoid')(dense)\n",
    "\n",
    "model = tf.keras.Model(inputs=inputs, outputs=outputs)\n",
    "optimizer = tf.keras.optimizers.Adam(learning_rate=0.001)\n",
    "model.compile(optimizer=optimizer,\n",
    "              loss='binary_crossentropy',\n",
    "              metrics=[f1])\n"
   ]
  },
  {
   "cell_type": "code",
   "execution_count": 61,
   "metadata": {},
   "outputs": [
    {
     "name": "stdout",
     "output_type": "stream",
     "text": [
      "Model: \"model_9\"\n",
      "_________________________________________________________________\n",
      "Layer (type)                 Output Shape              Param #   \n",
      "=================================================================\n",
      "input_10 (InputLayer)        [(None, 134)]             0         \n",
      "_________________________________________________________________\n",
      "embedding_9 (Embedding)      (None, 134, 100)          7532000   \n",
      "_________________________________________________________________\n",
      "conv1d_21 (Conv1D)           (None, 130, 32)           16032     \n",
      "_________________________________________________________________\n",
      "conv1d_22 (Conv1D)           (None, 126, 32)           5152      \n",
      "_________________________________________________________________\n",
      "flatten_9 (Flatten)          (None, 4032)              0         \n",
      "_________________________________________________________________\n",
      "dense_18 (Dense)             (None, 64)                258112    \n",
      "_________________________________________________________________\n",
      "dense_19 (Dense)             (None, 1)                 65        \n",
      "=================================================================\n",
      "Total params: 7,811,361\n",
      "Trainable params: 7,811,361\n",
      "Non-trainable params: 0\n",
      "_________________________________________________________________\n"
     ]
    }
   ],
   "source": [
    "model.summary()"
   ]
  },
  {
   "cell_type": "code",
   "execution_count": 62,
   "metadata": {
    "scrolled": true
   },
   "outputs": [
    {
     "name": "stdout",
     "output_type": "stream",
     "text": [
      "Epoch 1/5\n",
      "621/621 [==============================] - 54s 87ms/step - loss: 0.1334 - f1: 0.4015 - val_loss: 0.1100 - val_f1: 0.5959\n",
      "Epoch 2/5\n",
      "621/621 [==============================] - 54s 86ms/step - loss: 0.0999 - f1: 0.6420 - val_loss: 0.1107 - val_f1: 0.5962\n",
      "Epoch 3/5\n",
      "621/621 [==============================] - 54s 86ms/step - loss: 0.0845 - f1: 0.7093 - val_loss: 0.1174 - val_f1: 0.6266\n",
      "Epoch 4/5\n",
      "621/621 [==============================] - 54s 86ms/step - loss: 0.0684 - f1: 0.7735 - val_loss: 0.1379 - val_f1: 0.6012\n",
      "Epoch 5/5\n",
      "621/621 [==============================] - 54s 86ms/step - loss: 0.0549 - f1: 0.8246 - val_loss: 0.1606 - val_f1: 0.5856\n"
     ]
    },
    {
     "data": {
      "text/plain": [
       "<tensorflow.python.keras.callbacks.History at 0x7f8f74c7ada0>"
      ]
     },
     "execution_count": 62,
     "metadata": {},
     "output_type": "execute_result"
    }
   ],
   "source": [
    "model.fit(X_train, y_train, \n",
    "          validation_data=(X_valid, y_valid),\n",
    "          batch_size=2000,\n",
    "          epochs=5)"
   ]
  },
  {
   "cell_type": "code",
   "execution_count": 63,
   "metadata": {},
   "outputs": [
    {
     "name": "stdout",
     "output_type": "stream",
     "text": [
      "dict_keys(['loss', 'f1', 'val_loss', 'val_f1'])\n"
     ]
    },
    {
     "data": {
      "image/png": "[encoded data removed]",
      "text/plain": [
       "<Figure size 432x288 with 1 Axes>"
      ]
     },
     "metadata": {
      "needs_background": "light"
     },
     "output_type": "display_data"
    }
   ],
   "source": [
    "print(model.history.history.keys())\n",
    "# summarize history for accuracy\n",
    "plt.plot(model.history.history['f1'])\n",
    "plt.plot(model.history.history['val_f1'])\n",
    "plt.title('model f1')\n",
    "plt.ylabel('f1')\n",
    "plt.xlabel('epoch')\n",
    "plt.legend(['train', 'val'], loc='upper left')\n",
    "plt.show()"
   ]
  },
  {
   "cell_type": "markdown",
   "metadata": {},
   "source": [
    "Со сверточными слоями часто используется Pooling. Это тоже своего рода свертка, но без обучаемых параметров. В пулингах используется какое-то правило, по которому из чисел в каком-то окне выбирается 1 число (т.е. происходит свертка). В качестве правила используется максимум или среднее. Pooling слой ставят после сверточного. "
   ]
  },
  {
   "cell_type": "code",
   "execution_count": 21,
   "metadata": {},
   "outputs": [],
   "source": [
    "inputs = tf.keras.layers.Input(shape=(MAX_LEN,))\n",
    "embeddings = tf.keras.layers.Embedding(input_dim=len(word2id), output_dim=100)(inputs, )\n",
    "\n",
    "conv1 = tf.keras.layers.Conv1D(kernel_size=5, filters=32, strides=1)(embeddings)\n",
    "conv2 = tf.keras.layers.Conv1D(kernel_size=5, filters=32, strides=1, activation='relu')(conv1)\n",
    "pool = tf.keras.layers.AveragePool1D()(conv2)\n",
    "\n",
    "concat = tf.keras.layers.Flatten()(pool)\n",
    "dense = tf.keras.layers.Dense(64, activation='relu')(concat)\n",
    "outputs = tf.keras.layers.Dense(1, activation='sigmoid')(dense)\n",
    "\n",
    "model = tf.keras.Model(inputs=inputs, outputs=outputs)\n",
    "optimizer = tf.keras.optimizers.Adam(learning_rate=0.001)\n",
    "model.compile(optimizer=optimizer,\n",
    "              loss='binary_crossentropy',\n",
    "              metrics=[f1])\n"
   ]
  },
  {
   "cell_type": "code",
   "execution_count": 22,
   "metadata": {
    "scrolled": true
   },
   "outputs": [
    {
     "name": "stdout",
     "output_type": "stream",
     "text": [
      "Epoch 1/5\n",
      "621/621 [==============================] - 51s 82ms/step - loss: 0.1336 - f1: 0.4274 - val_loss: 0.1116 - val_f1: 0.6017\n",
      "Epoch 2/5\n",
      "621/621 [==============================] - 51s 82ms/step - loss: 0.0997 - f1: 0.6419 - val_loss: 0.1126 - val_f1: 0.6018\n",
      "Epoch 3/5\n",
      "621/621 [==============================] - 51s 82ms/step - loss: 0.0831 - f1: 0.7141 - val_loss: 0.1247 - val_f1: 0.5872\n",
      "Epoch 4/5\n",
      "621/621 [==============================] - 51s 82ms/step - loss: 0.0654 - f1: 0.7860 - val_loss: 0.1412 - val_f1: 0.5911\n",
      "Epoch 5/5\n",
      "621/621 [==============================] - 51s 82ms/step - loss: 0.0475 - f1: 0.8507 - val_loss: 0.1743 - val_f1: 0.5873\n"
     ]
    },
    {
     "data": {
      "text/plain": [
       "<tensorflow.python.keras.callbacks.History at 0x7f48f182acf8>"
      ]
     },
     "execution_count": 22,
     "metadata": {},
     "output_type": "execute_result"
    }
   ],
   "source": [
    "# как выглядит ошибка при слишком большом батче\n",
    "model.fit(X_train, y_train, \n",
    "          validation_data=(X_valid, y_valid),\n",
    "          batch_size=2000,\n",
    "         epochs=5)"
   ]
  },
  {
   "cell_type": "code",
   "execution_count": 23,
   "metadata": {},
   "outputs": [
    {
     "name": "stdout",
     "output_type": "stream",
     "text": [
      "dict_keys(['loss', 'f1', 'val_loss', 'val_f1'])\n"
     ]
    },
    {
     "data": {
      "image/png": "[encoded data removed]",
      "text/plain": [
       "<Figure size 432x288 with 1 Axes>"
      ]
     },
     "metadata": {
      "needs_background": "light"
     },
     "output_type": "display_data"
    }
   ],
   "source": [
    "print(model.history.history.keys())\n",
    "# summarize history for accuracy\n",
    "plt.plot(model.history.history['f1'])\n",
    "plt.plot(model.history.history['val_f1'])\n",
    "plt.title('model f1')\n",
    "plt.ylabel('f1')\n",
    "plt.xlabel('epoch')\n",
    "plt.legend(['train', 'val'], loc='upper left')\n",
    "plt.show()"
   ]
  },
  {
   "cell_type": "markdown",
   "metadata": {},
   "source": [
    "До этого мы разбирали сами слои и как-то не обращали внимание на результаты. А они получаются так себе. Видно, что есть переобучение."
   ]
  },
  {
   "cell_type": "markdown",
   "metadata": {},
   "source": [
    "Для борьбы с переобучением в нейронках есть регуляризация и Dropout. \n",
    "\n",
    "    Базовая регуляризация тут как в классических алгоритмах - l1 и l2. В большинстве слоев есть параметры smth_regularizer (можно строкой указать l1 или l2), где вместо smth какая-то специфичная часть слоя, которая обучается (kernel_regularizer в свертках  это регуляризация весов в матрицах).\n",
    "    \n",
    "    А Dropout - это отдельный слой, в котором часть подаваемых значений просто случайно зануляется. Это застявляет нейронку смотреть  на большее количество паттернов, а не переобучаться только на какой-то один.\n",
    " "
   ]
  },
  {
   "cell_type": "code",
   "execution_count": 27,
   "metadata": {},
   "outputs": [],
   "source": [
    "inputs = tf.keras.layers.Input(shape=(MAX_LEN,))\n",
    "\n",
    "embeddings = tf.keras.layers.Embedding(input_dim=len(word2id), output_dim=100)(inputs)\n",
    "drop1 = tf.keras.layers.Dropout(0.2)(embeddings)\n",
    "conv1 = tf.keras.layers.Conv1D(kernel_size=5, filters=32, strides=1, \n",
    "                                               kernel_regularizer='l2')(embeddings)\n",
    "conv2 = tf.keras.layers.Conv1D(kernel_size=5, filters=32, strides=1, \n",
    "                                               kernel_regularizer='l2',\n",
    "                                              activation='relu')(conv1)\n",
    "\n",
    "drop2 = tf.keras.layers.Dropout(0.2)(conv2) # это значит что случайно заменяется половина всех значений\n",
    "\n",
    "concat = tf.keras.layers.Flatten()(drop2)\n",
    "dense = tf.keras.layers.Dense(50, activation='relu', kernel_regularizer='l2')(concat)\n",
    "outputs = tf.keras.layers.Dense(1, activation='sigmoid')(dense)\n",
    "\n",
    "model = tf.keras.Model(inputs=inputs, outputs=outputs)\n",
    "optimizer = tf.keras.optimizers.Adam(learning_rate=0.001)\n",
    "model.compile(optimizer=optimizer,\n",
    "              loss='binary_crossentropy',\n",
    "              metrics=[f1])\n"
   ]
  },
  {
   "cell_type": "code",
   "execution_count": 28,
   "metadata": {},
   "outputs": [
    {
     "name": "stdout",
     "output_type": "stream",
     "text": [
      "Model: \"model_2\"\n",
      "_________________________________________________________________\n",
      "Layer (type)                 Output Shape              Param #   \n",
      "=================================================================\n",
      "input_3 (InputLayer)         [(None, 134)]             0         \n",
      "_________________________________________________________________\n",
      "embedding_2 (Embedding)      (None, 134, 100)          7532000   \n",
      "_________________________________________________________________\n",
      "conv1d_4 (Conv1D)            (None, 130, 32)           16032     \n",
      "_________________________________________________________________\n",
      "conv1d_5 (Conv1D)            (None, 126, 32)           5152      \n",
      "_________________________________________________________________\n",
      "dropout_3 (Dropout)          (None, 126, 32)           0         \n",
      "_________________________________________________________________\n",
      "flatten_2 (Flatten)          (None, 4032)              0         \n",
      "_________________________________________________________________\n",
      "dense_4 (Dense)              (None, 50)                201650    \n",
      "_________________________________________________________________\n",
      "dense_5 (Dense)              (None, 1)                 51        \n",
      "=================================================================\n",
      "Total params: 7,754,885\n",
      "Trainable params: 7,754,885\n",
      "Non-trainable params: 0\n",
      "_________________________________________________________________\n"
     ]
    }
   ],
   "source": [
    "model.summary()"
   ]
  },
  {
   "cell_type": "code",
   "execution_count": 29,
   "metadata": {
    "scrolled": true
   },
   "outputs": [
    {
     "name": "stdout",
     "output_type": "stream",
     "text": [
      "Epoch 1/5\n",
      "621/621 [==============================] - 51s 82ms/step - loss: 0.2667 - f1: 0.3277 - val_loss: 0.1518 - val_f1: 0.4447\n",
      "Epoch 2/5\n",
      "621/621 [==============================] - 51s 83ms/step - loss: 0.1431 - f1: 0.4980 - val_loss: 0.1447 - val_f1: 0.4563\n",
      "Epoch 3/5\n",
      "621/621 [==============================] - 51s 83ms/step - loss: 0.1341 - f1: 0.5466 - val_loss: 0.1402 - val_f1: 0.4973\n",
      "Epoch 4/5\n",
      "621/621 [==============================] - 51s 82ms/step - loss: 0.1288 - f1: 0.5797 - val_loss: 0.1354 - val_f1: 0.5578\n",
      "Epoch 5/5\n",
      "621/621 [==============================] - 51s 82ms/step - loss: 0.1246 - f1: 0.5986 - val_loss: 0.1342 - val_f1: 0.5368\n"
     ]
    },
    {
     "data": {
      "text/plain": [
       "<tensorflow.python.keras.callbacks.History at 0x7f49a0e185c0>"
      ]
     },
     "execution_count": 29,
     "metadata": {},
     "output_type": "execute_result"
    }
   ],
   "source": [
    "model.fit(X_train, y_train, \n",
    "          validation_data=(X_valid, y_valid),\n",
    "          batch_size=2000,\n",
    "         epochs=5)"
   ]
  },
  {
   "cell_type": "markdown",
   "metadata": {},
   "source": [
    "Переобучаться стало сильно меньше."
   ]
  },
  {
   "cell_type": "code",
   "execution_count": 30,
   "metadata": {},
   "outputs": [
    {
     "name": "stdout",
     "output_type": "stream",
     "text": [
      "dict_keys(['loss', 'f1', 'val_loss', 'val_f1'])\n"
     ]
    },
    {
     "data": {
      "image/png": "[encoded data removed]",
      "text/plain": [
       "<Figure size 432x288 with 1 Axes>"
      ]
     },
     "metadata": {
      "needs_background": "light"
     },
     "output_type": "display_data"
    }
   ],
   "source": [
    "print(model.history.history.keys())\n",
    "# summarize history for accuracy\n",
    "plt.plot(model.history.history['f1'])\n",
    "plt.plot(model.history.history['val_f1'])\n",
    "plt.title('model f1')\n",
    "plt.ylabel('f1')\n",
    "plt.xlabel('epoch')\n",
    "plt.legend(['train', 'val'], loc='upper left')\n",
    "plt.show()"
   ]
  },
  {
   "cell_type": "markdown",
   "metadata": {},
   "source": [
    "Еще один параметр в сверточном слое - padding. Так как мы проходим каким-то окном по последовательности, на выходе последовательность сокращается. Но мы можем добавить нулей в начало и конец, чтобы на выходе было такое же число (padding='same').\n",
    "\n",
    "Так мы можем наслаивать огромное количество слоев (она не уменьшается на каждом шаге).\n",
    "\n",
    "А еще это позволяет, например, сделать вот такую сеть:"
   ]
  },
  {
   "cell_type": "code",
   "execution_count": 40,
   "metadata": {},
   "outputs": [],
   "source": [
    "inputs = tf.keras.layers.Input(shape=(MAX_LEN,))\n",
    "embeddings = tf.keras.layers.Embedding(input_dim=len(word2id), output_dim=100)(inputs, )\n",
    "convs = []\n",
    "\n",
    "# мы делаем несколько параллельных сверточных слоев (даже пар слоев с пулингом) с разным окном\n",
    "# но из-за того, что бы сделали паддинг, длинна получается одинаковая и мы можем сконкатенировать \n",
    "# векторы по второй размерности (так же как вы склеивали эбмединги от фастекста и ворд2века в предыдущей домашке)\n",
    "\n",
    "for ks in [2,3,4,5]:\n",
    "    conv1 = tf.keras.layers.Conv1D(kernel_size=ks, filters=32, padding='same',strides=1)(embeddings)\n",
    "    conv2 = tf.keras.layers.Conv1D(kernel_size=ks, filters=32, padding='same',strides=1, \n",
    "                                  kernel_regularizer='l2', activation='relu')(conv1)\n",
    "    convs.append(conv2)\n",
    "\n",
    "\n",
    "concat = tf.keras.layers.concatenate(convs, axis=2)\n",
    "\n",
    "# а тут мы можем поставить еще свертку\n",
    "conv_global = tf.keras.layers.Conv1D(kernel_size=5, filters=32, strides=1)(concat)\n",
    "flatten = tf.keras.layers.Flatten()(conv_global)\n",
    "dense = tf.keras.layers.Dense(50, activation='relu')(flatten)\n",
    "outputs = tf.keras.layers.Dense(1, activation='sigmoid')(dense)\n",
    "\n",
    "model = tf.keras.Model(inputs=inputs, outputs=outputs)\n",
    "optimizer = tf.keras.optimizers.Adam(learning_rate=0.001)\n",
    "model.compile(optimizer=optimizer,\n",
    "              loss='binary_crossentropy',\n",
    "              metrics=[f1])\n"
   ]
  },
  {
   "cell_type": "code",
   "execution_count": 41,
   "metadata": {},
   "outputs": [
    {
     "name": "stdout",
     "output_type": "stream",
     "text": [
      "Model: \"model_5\"\n",
      "__________________________________________________________________________________________________\n",
      "Layer (type)                    Output Shape         Param #     Connected to                     \n",
      "==================================================================================================\n",
      "input_6 (InputLayer)            [(None, 134)]        0                                            \n",
      "__________________________________________________________________________________________________\n",
      "embedding_5 (Embedding)         (None, 134, 100)     7532000     input_6[0][0]                    \n",
      "__________________________________________________________________________________________________\n",
      "conv1d_24 (Conv1D)              (None, 134, 32)      6432        embedding_5[0][0]                \n",
      "__________________________________________________________________________________________________\n",
      "conv1d_26 (Conv1D)              (None, 134, 32)      9632        embedding_5[0][0]                \n",
      "__________________________________________________________________________________________________\n",
      "conv1d_28 (Conv1D)              (None, 134, 32)      12832       embedding_5[0][0]                \n",
      "__________________________________________________________________________________________________\n",
      "conv1d_30 (Conv1D)              (None, 134, 32)      16032       embedding_5[0][0]                \n",
      "__________________________________________________________________________________________________\n",
      "conv1d_25 (Conv1D)              (None, 134, 32)      2080        conv1d_24[0][0]                  \n",
      "__________________________________________________________________________________________________\n",
      "conv1d_27 (Conv1D)              (None, 134, 32)      3104        conv1d_26[0][0]                  \n",
      "__________________________________________________________________________________________________\n",
      "conv1d_29 (Conv1D)              (None, 134, 32)      4128        conv1d_28[0][0]                  \n",
      "__________________________________________________________________________________________________\n",
      "conv1d_31 (Conv1D)              (None, 134, 32)      5152        conv1d_30[0][0]                  \n",
      "__________________________________________________________________________________________________\n",
      "concatenate_2 (Concatenate)     (None, 134, 128)     0           conv1d_25[0][0]                  \n",
      "                                                                 conv1d_27[0][0]                  \n",
      "                                                                 conv1d_29[0][0]                  \n",
      "                                                                 conv1d_31[0][0]                  \n",
      "__________________________________________________________________________________________________\n",
      "conv1d_32 (Conv1D)              (None, 130, 32)      20512       concatenate_2[0][0]              \n",
      "__________________________________________________________________________________________________\n",
      "flatten_5 (Flatten)             (None, 4160)         0           conv1d_32[0][0]                  \n",
      "__________________________________________________________________________________________________\n",
      "dense_10 (Dense)                (None, 50)           208050      flatten_5[0][0]                  \n",
      "__________________________________________________________________________________________________\n",
      "dense_11 (Dense)                (None, 1)            51          dense_10[0][0]                   \n",
      "==================================================================================================\n",
      "Total params: 7,820,005\n",
      "Trainable params: 7,820,005\n",
      "Non-trainable params: 0\n",
      "__________________________________________________________________________________________________\n"
     ]
    }
   ],
   "source": [
    "model.summary()"
   ]
  },
  {
   "cell_type": "code",
   "execution_count": 43,
   "metadata": {},
   "outputs": [
    {
     "name": "stdout",
     "output_type": "stream",
     "text": [
      "Epoch 1/5\n",
      "621/621 [==============================] - 74s 119ms/step - loss: 0.1395 - f1: 0.5652 - val_loss: 0.1131 - val_f1: 0.5932\n",
      "Epoch 2/5\n",
      "621/621 [==============================] - 73s 118ms/step - loss: 0.1038 - f1: 0.6289 - val_loss: 0.1124 - val_f1: 0.6063\n",
      "Epoch 3/5\n",
      "621/621 [==============================] - 73s 118ms/step - loss: 0.0965 - f1: 0.6603 - val_loss: 0.1151 - val_f1: 0.6117\n",
      "Epoch 4/5\n",
      "621/621 [==============================] - 73s 118ms/step - loss: 0.0900 - f1: 0.6902 - val_loss: 0.1218 - val_f1: 0.6074\n",
      "Epoch 5/5\n",
      "621/621 [==============================] - 73s 118ms/step - loss: 0.0831 - f1: 0.7202 - val_loss: 0.1308 - val_f1: 0.6107\n"
     ]
    },
    {
     "data": {
      "text/plain": [
       "<tensorflow.python.keras.callbacks.History at 0x7f491075d160>"
      ]
     },
     "execution_count": 43,
     "metadata": {},
     "output_type": "execute_result"
    }
   ],
   "source": [
    "model.fit(X_train, y_train, \n",
    "          validation_data=(X_valid, y_valid),\n",
    "          batch_size=2000,\n",
    "         epochs=5)"
   ]
  },
  {
   "cell_type": "code",
   "execution_count": 44,
   "metadata": {},
   "outputs": [
    {
     "name": "stdout",
     "output_type": "stream",
     "text": [
      "dict_keys(['loss', 'f1', 'val_loss', 'val_f1'])\n"
     ]
    },
    {
     "data": {
      "image/png": "[encoded data removed]",
      "text/plain": [
       "<Figure size 432x288 with 1 Axes>"
      ]
     },
     "metadata": {
      "needs_background": "light"
     },
     "output_type": "display_data"
    }
   ],
   "source": [
    "print(model.history.history.keys())\n",
    "# summarize history for accuracy\n",
    "plt.plot(model.history.history['f1'])\n",
    "plt.plot(model.history.history['val_f1'])\n",
    "plt.title('model f1')\n",
    "plt.ylabel('f1')\n",
    "plt.xlabel('epoch')\n",
    "plt.legend(['train', 'val'], loc='upper left')\n",
    "plt.show()"
   ]
  },
  {
   "cell_type": "markdown",
   "metadata": {},
   "source": [
    "В Conv1D только один вариант паддинга - нулями. Но есть и другие способы (посмотрите лекцию по ссылке в начале). В функции tf.pad дает больше выбора паддинга. Его можно вставить в tf.keras.layers.Lambda, чтобы использовать в сети. \n"
   ]
  },
  {
   "cell_type": "code",
   "execution_count": 138,
   "metadata": {},
   "outputs": [
    {
     "data": {
      "text/plain": [
       "<tensorflow.python.keras.layers.core.Lambda at 0x7f4545d80940>"
      ]
     },
     "execution_count": 138,
     "metadata": {},
     "output_type": "execute_result"
    }
   ],
   "source": [
    "# пример\n",
    "tf.keras.layers.Lambda(lambda x: tf.pad(x, \n",
    "                                        [[0,0], [1,1], [0,0]], \n",
    "                                        mode='CONSTANT'))\n",
    "\n",
    "# x тут это то, что будет на входе, например последовательность эмбедингов\n",
    "#\n",
    "# второй параметр - это значения паддинга для каждой из размерности слева и справа\n",
    "\n",
    "# у нас будут последовательности вида (batch_size, max_len, embedding_size)\n",
    "\n",
    "# с размером батча ничего не делаем, поэтому [0, 0]\n",
    "\n",
    "# длину последовательности меняем, она связана с kernel_size как раз и меняется - [1, 1], \n",
    "# т.е. паддим одну колонку слева и одну справа (была 134, станет 136, например)\n",
    "\n",
    "# размер эмбединга тоже не трогаем, т.к. фильтра применяется на всю глубину\n",
    "#\n",
    "\n",
    "# mode - это тип паддинга, CONSTANT - это паддинг нулями\n",
    "# еще есть SYMMETRIC, REFLECT\n",
    "\n",
    "# вот примеры, как это работает\n",
    "\n",
    "# tf.pad(t, paddings, \"CONSTANT\")  # [[0, 0, 0, 0, 0, 0, 0],\n",
    "#                                  #  [0, 0, 1, 2, 3, 0, 0],\n",
    "#                                  #  [0, 0, 4, 5, 6, 0, 0],\n",
    "#                                  #  [0, 0, 0, 0, 0, 0, 0]]\n",
    "\n",
    "# tf.pad(t, paddings, \"REFLECT\")  # [[6, 5, 4, 5, 6, 5, 4],\n",
    "#                                 #  [3, 2, 1, 2, 3, 2, 1],\n",
    "#                                 #  [6, 5, 4, 5, 6, 5, 4],\n",
    "#                                 #  [3, 2, 1, 2, 3, 2, 1]]\n",
    "\n",
    "# tf.pad(t, paddings, \"SYMMETRIC\")  # [[2, 1, 1, 2, 3, 3, 2],\n",
    "#                                   #  [2, 1, 1, 2, 3, 3, 2],\n",
    "#                                   #  [5, 4, 4, 5, 6, 6, 5],\n",
    "#                                   #  [5, 4, 4, 5, 6, 6, 5]]"
   ]
  },
  {
   "cell_type": "markdown",
   "metadata": {},
   "source": [
    "### Попробуйте подбирать паддинги, чтобы понять, как это работает, на игрушечном тензоре"
   ]
  },
  {
   "cell_type": "code",
   "execution_count": 139,
   "metadata": {},
   "outputs": [],
   "source": [
    "x = [[[1,2,3],[3, 4,5]], [[6,7,8], [9,10, 11]]]"
   ]
  },
  {
   "cell_type": "code",
   "execution_count": 144,
   "metadata": {},
   "outputs": [
    {
     "data": {
      "text/plain": [
       "array([[[ 1,  2,  3],\n",
       "        [ 3,  4,  5]],\n",
       "\n",
       "       [[ 6,  7,  8],\n",
       "        [ 9, 10, 11]]])"
      ]
     },
     "execution_count": 144,
     "metadata": {},
     "output_type": "execute_result"
    }
   ],
   "source": [
    "np.array(x)"
   ]
  },
  {
   "cell_type": "code",
   "execution_count": 146,
   "metadata": {},
   "outputs": [
    {
     "data": {
      "text/plain": [
       "(2, 2, 3)"
      ]
     },
     "execution_count": 146,
     "metadata": {},
     "output_type": "execute_result"
    }
   ],
   "source": [
    "np.array(x).shape"
   ]
  },
  {
   "cell_type": "code",
   "execution_count": 140,
   "metadata": {},
   "outputs": [
    {
     "data": {
      "text/plain": [
       "<tf.Tensor: shape=(2, 4, 3), dtype=int32, numpy=\n",
       "array([[[ 0,  0,  0],\n",
       "        [ 1,  2,  3],\n",
       "        [ 3,  4,  5],\n",
       "        [ 0,  0,  0]],\n",
       "\n",
       "       [[ 0,  0,  0],\n",
       "        [ 6,  7,  8],\n",
       "        [ 9, 10, 11],\n",
       "        [ 0,  0,  0]]], dtype=int32)>"
      ]
     },
     "execution_count": 140,
     "metadata": {},
     "output_type": "execute_result"
    }
   ],
   "source": [
    "tf.pad(x, [[0, 0], [1, 1], [0, 0]])"
   ]
  },
  {
   "cell_type": "markdown",
   "metadata": {},
   "source": [
    "Это еще не все сложности.\n",
    "\n",
    "Понадобится ещё разобраться в том, как расчитывается размер выхода из свертки в зависимости от размера фильтра.\n",
    "\n",
    "В лекции была такая формула -   \n",
    "output = (shape-kernel_size)/stride + 1\n",
    "\n",
    "\n",
    "Из неё нам нужно вывести размер паддинга с каждой стороны нашей матрицы. Для этого нам нужно найти такой shape, при котором выход из свертки будет равняться нашему текущему shape.   \n",
    "shape = (X-kernel_size)/stride + 1\n",
    "\n",
    "Потом его нужно разделить на 2 и получить размер паддинга с каждой стороны. \n",
    "\n",
    "Получается что-то такое -   \n",
    "X = ((((shape - 1) * stride) + kernel_size) - shape) / 2 (может еще упрощается, но я давно не считал руками)\n",
    "\n",
    "Тут еще нужно учесть, что не при любом значении kernel_size будут получаться четные числа, а это значит нужно будет паддить не ровно. Это вы можете доделать самостоятельно. Я просто взял значения kernel_size (3,5), при которых все сходится."
   ]
  },
  {
   "cell_type": "markdown",
   "metadata": {},
   "source": [
    "Еще небольшая проблема в том, что мы не можем задать сетку, как это делали выше (через цикл). Я не знаю, почему так, но если развернуть цикл и написать все без переменных, то работает."
   ]
  },
  {
   "cell_type": "code",
   "execution_count": 129,
   "metadata": {},
   "outputs": [
    {
     "data": {
      "text/plain": [
       "1.0"
      ]
     },
     "execution_count": 129,
     "metadata": {},
     "output_type": "execute_result"
    }
   ],
   "source": [
    "# Паддинг для kernel_size=3\n",
    "ks = 3\n",
    "((((MAX_LEN - 1) * 1) + ks) -  MAX_LEN) / 2"
   ]
  },
  {
   "cell_type": "code",
   "execution_count": 130,
   "metadata": {},
   "outputs": [
    {
     "data": {
      "text/plain": [
       "2.0"
      ]
     },
     "execution_count": 130,
     "metadata": {},
     "output_type": "execute_result"
    }
   ],
   "source": [
    "# Паддинг для kernel_size=5\n",
    "ks = 5\n",
    "((((MAX_LEN - 1) * 1) + ks) -  MAX_LEN) / 2"
   ]
  },
  {
   "cell_type": "code",
   "execution_count": 149,
   "metadata": {},
   "outputs": [],
   "source": [
    "\n",
    "inputs = tf.keras.layers.Input(shape=(MAX_LEN,))\n",
    "embeddings = tf.keras.layers.Embedding(input_dim=len(word2id), output_dim=100)(inputs, )\n",
    "convs = []\n",
    "\n",
    "\n",
    "# kernel_size = 3\n",
    "pad1 = tf.keras.layers.Lambda(lambda x: tf.pad(x, \n",
    "                                               [[0,0], [1,1], [0, 0]], \n",
    "                                               mode='REFLECT'))(embeddings)\n",
    "\n",
    "conv1 = tf.keras.layers.Conv1D(kernel_size=3, filters=32, strides=1)(pad1)\n",
    "\n",
    "pad2 = tf.keras.layers.Lambda(lambda x: tf.pad(x, \n",
    "                                               [[0,0], [1,1], [0, 0]], \n",
    "                                               mode='REFLECT'))(conv1)\n",
    "\n",
    "conv2 = tf.keras.layers.Conv1D(kernel_size=3, filters=32,strides=1, \n",
    "                              kernel_regularizer='l2', activation='relu')(pad2)\n",
    "\n",
    "\n",
    "#kernel_size = 5\n",
    "pad3 = tf.keras.layers.Lambda(lambda x: tf.pad(x, \n",
    "                                               [[0,0], [2,2], [0, 0]], \n",
    "                                               mode='REFLECT'))(embeddings)\n",
    "\n",
    "conv3 = tf.keras.layers.Conv1D(kernel_size=5, filters=32, strides=1)(pad3)\n",
    "\n",
    "pad4 = tf.keras.layers.Lambda(lambda x: tf.pad(x, \n",
    "                                               [[0,0], [2,2], [0, 0]], \n",
    "                                               mode='REFLECT'))(conv3)\n",
    "\n",
    "conv4 = tf.keras.layers.Conv1D(kernel_size=5, filters=32,strides=1, \n",
    "                              kernel_regularizer='l2', activation='relu')(pad4)\n",
    "\n",
    "\n",
    "\n",
    "concat = tf.keras.layers.concatenate([conv2, conv4])\n",
    "\n",
    "conv_global = tf.keras.layers.Conv1D(kernel_size=5, filters=32, strides=1)(concat)\n",
    "flatten = tf.keras.layers.Flatten()(conv_global)\n",
    "dense = tf.keras.layers.Dense(50, activation='relu')(flatten)\n",
    "outputs = tf.keras.layers.Dense(1, activation='sigmoid')(dense)\n",
    "\n",
    "model = tf.keras.Model(inputs=inputs, outputs=outputs)\n",
    "optimizer = tf.keras.optimizers.Adam(learning_rate=0.001)\n",
    "model.compile(optimizer=optimizer,\n",
    "              loss='binary_crossentropy',\n",
    "              metrics=[f1])\n"
   ]
  },
  {
   "cell_type": "code",
   "execution_count": 150,
   "metadata": {},
   "outputs": [
    {
     "name": "stdout",
     "output_type": "stream",
     "text": [
      "Model: \"model_24\"\n",
      "__________________________________________________________________________________________________\n",
      "Layer (type)                    Output Shape         Param #     Connected to                     \n",
      "==================================================================================================\n",
      "input_35 (InputLayer)           [(None, 134)]        0                                            \n",
      "__________________________________________________________________________________________________\n",
      "embedding_34 (Embedding)        (None, 134, 100)     4801200     input_35[0][0]                   \n",
      "__________________________________________________________________________________________________\n",
      "lambda_92 (Lambda)              (None, 136, 100)     0           embedding_34[0][0]               \n",
      "__________________________________________________________________________________________________\n",
      "lambda_94 (Lambda)              (None, 138, 100)     0           embedding_34[0][0]               \n",
      "__________________________________________________________________________________________________\n",
      "conv1d_107 (Conv1D)             (None, 134, 32)      9632        lambda_92[0][0]                  \n",
      "__________________________________________________________________________________________________\n",
      "conv1d_109 (Conv1D)             (None, 134, 32)      16032       lambda_94[0][0]                  \n",
      "__________________________________________________________________________________________________\n",
      "lambda_93 (Lambda)              (None, 136, 32)      0           conv1d_107[0][0]                 \n",
      "__________________________________________________________________________________________________\n",
      "lambda_95 (Lambda)              (None, 138, 32)      0           conv1d_109[0][0]                 \n",
      "__________________________________________________________________________________________________\n",
      "conv1d_108 (Conv1D)             (None, 134, 32)      3104        lambda_93[0][0]                  \n",
      "__________________________________________________________________________________________________\n",
      "conv1d_110 (Conv1D)             (None, 134, 32)      5152        lambda_95[0][0]                  \n",
      "__________________________________________________________________________________________________\n",
      "concatenate_20 (Concatenate)    (None, 134, 64)      0           conv1d_108[0][0]                 \n",
      "                                                                 conv1d_110[0][0]                 \n",
      "__________________________________________________________________________________________________\n",
      "conv1d_111 (Conv1D)             (None, 130, 32)      10272       concatenate_20[0][0]             \n",
      "__________________________________________________________________________________________________\n",
      "flatten_24 (Flatten)            (None, 4160)         0           conv1d_111[0][0]                 \n",
      "__________________________________________________________________________________________________\n",
      "dense_48 (Dense)                (None, 50)           208050      flatten_24[0][0]                 \n",
      "__________________________________________________________________________________________________\n",
      "dense_49 (Dense)                (None, 1)            51          dense_48[0][0]                   \n",
      "==================================================================================================\n",
      "Total params: 5,053,493\n",
      "Trainable params: 5,053,493\n",
      "Non-trainable params: 0\n",
      "__________________________________________________________________________________________________\n"
     ]
    }
   ],
   "source": [
    "model.summary()"
   ]
  },
  {
   "cell_type": "code",
   "execution_count": 151,
   "metadata": {},
   "outputs": [
    {
     "name": "stdout",
     "output_type": "stream",
     "text": [
      "Epoch 1/5\n",
      "621/621 [==============================] - 65s 105ms/step - loss: 0.1882 - f1: 0.5104 - val_loss: 0.1141 - val_f1: 0.5666\n",
      "Epoch 2/5\n",
      "621/621 [==============================] - 65s 105ms/step - loss: 0.1048 - f1: 0.6265 - val_loss: 0.1118 - val_f1: 0.6257\n",
      "Epoch 3/5\n",
      "621/621 [==============================] - 66s 105ms/step - loss: 0.0967 - f1: 0.6600 - val_loss: 0.1132 - val_f1: 0.6045\n",
      "Epoch 4/5\n",
      "621/621 [==============================] - 65s 105ms/step - loss: 0.0898 - f1: 0.6939 - val_loss: 0.1203 - val_f1: 0.6135\n",
      "Epoch 5/5\n",
      "621/621 [==============================] - 65s 105ms/step - loss: 0.0824 - f1: 0.7253 - val_loss: 0.1292 - val_f1: 0.6185\n"
     ]
    },
    {
     "data": {
      "text/plain": [
       "<tensorflow.python.keras.callbacks.History at 0x7f45c21fcd30>"
      ]
     },
     "execution_count": 151,
     "metadata": {},
     "output_type": "execute_result"
    }
   ],
   "source": [
    "model.fit(X_train, y_train, \n",
    "          validation_data=(X_valid, y_valid),\n",
    "          batch_size=2000,\n",
    "         epochs=5)"
   ]
  },
  {
   "cell_type": "code",
   "execution_count": 152,
   "metadata": {},
   "outputs": [
    {
     "name": "stdout",
     "output_type": "stream",
     "text": [
      "dict_keys(['loss', 'f1', 'val_loss', 'val_f1'])\n"
     ]
    },
    {
     "data": {
      "image/png": "[encoded data removed]",
      "text/plain": [
       "<Figure size 432x288 with 1 Axes>"
      ]
     },
     "metadata": {
      "needs_background": "light"
     },
     "output_type": "display_data"
    }
   ],
   "source": [
    "print(model.history.history.keys())\n",
    "# summarize history for accuracy\n",
    "plt.plot(model.history.history['f1'])\n",
    "plt.plot(model.history.history['val_f1'])\n",
    "plt.title('model f1')\n",
    "plt.ylabel('f1')\n",
    "plt.xlabel('epoch')\n",
    "plt.legend(['train', 'val'], loc='upper left')\n",
    "plt.show()"
   ]
  },
  {
   "cell_type": "markdown",
   "metadata": {},
   "source": [
    "## Сохранение и загрузка модели"
   ]
  },
  {
   "cell_type": "markdown",
   "metadata": {},
   "source": [
    "Когда какая-то модель получилась, её может потребоваться сохранить."
   ]
  },
  {
   "cell_type": "code",
   "execution_count": 45,
   "metadata": {},
   "outputs": [
    {
     "name": "stdout",
     "output_type": "stream",
     "text": [
      "INFO:tensorflow:Assets written to: model/assets\n"
     ]
    }
   ],
   "source": [
    "model.save('model')"
   ]
  },
  {
   "cell_type": "code",
   "execution_count": 37,
   "metadata": {
    "scrolled": true
   },
   "outputs": [],
   "source": [
    "# сохраненную модель можно загрузить вот так, НО\n",
    "# модель с метрикой ф1 не будет загружаться, так как она не стандартная\n",
    "# model = tf.keras.models.load_model('model')"
   ]
  },
  {
   "cell_type": "markdown",
   "metadata": {},
   "source": [
    "Можно сохранить только веса, но потом придется задать модель и только после этого загрузить веса."
   ]
  },
  {
   "cell_type": "code",
   "execution_count": 46,
   "metadata": {},
   "outputs": [],
   "source": [
    "model.save_weights('model.weights')"
   ]
  },
  {
   "cell_type": "code",
   "execution_count": 47,
   "metadata": {},
   "outputs": [],
   "source": [
    "inputs = tf.keras.layers.Input(shape=(MAX_LEN,))\n",
    "embeddings = tf.keras.layers.Embedding(input_dim=len(word2id), output_dim=100)(inputs, )\n",
    "convs = []\n",
    "\n",
    "for ks in [2,3,4,5]:\n",
    "    conv1 = tf.keras.layers.Conv1D(kernel_size=ks, filters=32, padding='same',strides=1)(embeddings)\n",
    "    conv2 = tf.keras.layers.Conv1D(kernel_size=ks, filters=32, padding='same',strides=1, \n",
    "                                  kernel_regularizer='l2', activation='relu')(conv1)\n",
    "    convs.append(conv2)\n",
    "concat = tf.keras.layers.concatenate(convs, axis=2)\n",
    "conv_global = tf.keras.layers.Conv1D(kernel_size=5, filters=32, strides=1)(concat)\n",
    "flatten = tf.keras.layers.Flatten()(conv_global)\n",
    "dense = tf.keras.layers.Dense(50, activation='relu')(flatten)\n",
    "outputs = tf.keras.layers.Dense(1, activation='sigmoid')(dense)\n",
    "\n",
    "model = tf.keras.Model(inputs=inputs, outputs=outputs)\n",
    "optimizer = tf.keras.optimizers.Adam(learning_rate=0.001)\n",
    "model.compile(optimizer=optimizer,\n",
    "              loss='binary_crossentropy',\n",
    "              metrics=[f1])\n"
   ]
  },
  {
   "cell_type": "code",
   "execution_count": 48,
   "metadata": {},
   "outputs": [
    {
     "data": {
      "text/plain": [
       "<tensorflow.python.training.tracking.util.CheckpointLoadStatus at 0x7f491073d5c0>"
      ]
     },
     "execution_count": 48,
     "metadata": {},
     "output_type": "execute_result"
    }
   ],
   "source": [
    "model.load_weights('model.weights')"
   ]
  },
  {
   "cell_type": "markdown",
   "metadata": {},
   "source": [
    "## Callbacks"
   ]
  },
  {
   "cell_type": "markdown",
   "metadata": {},
   "source": [
    "Еще есть такая штука как колбеки. С помощью них можно сохранять модель с лучшим результатом, останавливать обучение, если уже не обучается или менять learning_rate в зависимости от текущего состояния. С колбеками можно поставить нейронку обучаться и заняться какими-то другими делами, зная, что лучшие веса сохранятся.\n",
    "\n",
    "Описание стандартных колбеков - https://www.tensorflow.org/api_docs/python/tf/keras/callbacks"
   ]
  },
  {
   "cell_type": "code",
   "execution_count": 22,
   "metadata": {},
   "outputs": [],
   "source": [
    "# ModelCheckpoint сохраняет лучшие версии моделей\n",
    "checkpoint = tf.keras.callbacks.ModelCheckpoint('model.weights', # названия файла \n",
    "                                                monitor='val_f1', # за какой метрикой следить\n",
    "                                                verbose=1, # будет печатать что происходит\n",
    "                                                save_weights_only=True, # если нужно только веса сохранить\n",
    "                                                save_best_only=True, # сохранять только лучшие\n",
    "                                                mode='max', # если метрика должна расти, то тут max и min если наоборот\n",
    "                                                save_freq='epoch' # как часто вызывать\n",
    "                                               )\n",
    "\n",
    "# EarlyStopping позволяет автоматически остановить обучение, если качество не улучшается \n",
    "early_stop = tf.keras.callbacks.EarlyStopping(monitor='val_f1', \n",
    "                                              min_delta=0.01, # какая разница считается как улучшение\n",
    "                                              patience=3, # сколько эпох терпеть отсутствие улучшений\n",
    "                                              verbose=1, \n",
    "                                              mode='max',\n",
    "                                              )"
   ]
  },
  {
   "cell_type": "code",
   "execution_count": 23,
   "metadata": {},
   "outputs": [],
   "source": [
    "inputs = tf.keras.layers.Input(shape=(MAX_LEN,))\n",
    "\n",
    "embeddings = tf.keras.layers.Embedding(input_dim=len(word2id), output_dim=100)(inputs)\n",
    "drop1 = tf.keras.layers.Dropout(0.3)(embeddings)\n",
    "conv1 = tf.keras.layers.Conv1D(kernel_size=3, filters=128, strides=1, \n",
    "                                               kernel_regularizer='l2',\n",
    "                                              activation='relu')(embeddings)\n",
    "conv2 = tf.keras.layers.Conv1D(kernel_size=5, filters=128, strides=2, \n",
    "                                               kernel_regularizer='l2',\n",
    "                                              activation='relu')(conv1)\n",
    "\n",
    "drop2 = tf.keras.layers.Dropout(0.5)(conv2) # это значит что случайно заменяется половина всех значений\n",
    "\n",
    "flatten = tf.keras.layers.Flatten()(drop2)\n",
    "dense = tf.keras.layers.Dense(50, activation='relu')(flatten)\n",
    "outputs = tf.keras.layers.Dense(1, activation='sigmoid')(dense)\n",
    "\n",
    "model = tf.keras.Model(inputs=inputs, outputs=outputs)\n",
    "optimizer = tf.keras.optimizers.Adam(learning_rate=0.001)\n",
    "model.compile(optimizer=optimizer,\n",
    "              loss='binary_crossentropy',\n",
    "              metrics=[f1])\n"
   ]
  },
  {
   "cell_type": "code",
   "execution_count": 24,
   "metadata": {},
   "outputs": [
    {
     "name": "stdout",
     "output_type": "stream",
     "text": [
      "Epoch 1/10\n",
      "621/621 [==============================] - ETA: 0s - loss: 0.2668 - f1: 0.3060\n",
      "Epoch 00001: val_f1 improved from -inf to 0.52367, saving model to model.weights\n",
      "621/621 [==============================] - 65s 105ms/step - loss: 0.2668 - f1: 0.3060 - val_loss: 0.1307 - val_f1: 0.5237\n",
      "Epoch 2/10\n",
      "621/621 [==============================] - ETA: 0s - loss: 0.1262 - f1: 0.5597\n",
      "Epoch 00002: val_f1 did not improve from 0.52367\n",
      "621/621 [==============================] - 65s 105ms/step - loss: 0.1262 - f1: 0.5597 - val_loss: 0.1279 - val_f1: 0.5177\n",
      "Epoch 3/10\n",
      "621/621 [==============================] - ETA: 0s - loss: 0.1187 - f1: 0.5877\n",
      "Epoch 00003: val_f1 improved from 0.52367 to 0.56685, saving model to model.weights\n",
      "621/621 [==============================] - 65s 104ms/step - loss: 0.1187 - f1: 0.5877 - val_loss: 0.1242 - val_f1: 0.5669\n",
      "Epoch 4/10\n",
      "621/621 [==============================] - ETA: 0s - loss: 0.1142 - f1: 0.6055\n",
      "Epoch 00004: val_f1 did not improve from 0.56685\n",
      "621/621 [==============================] - 65s 104ms/step - loss: 0.1142 - f1: 0.6055 - val_loss: 0.1260 - val_f1: 0.5379\n",
      "Epoch 5/10\n",
      "621/621 [==============================] - ETA: 0s - loss: 0.1105 - f1: 0.6206\n",
      "Epoch 00005: val_f1 improved from 0.56685 to 0.58214, saving model to model.weights\n",
      "621/621 [==============================] - 65s 104ms/step - loss: 0.1105 - f1: 0.6206 - val_loss: 0.1261 - val_f1: 0.5821\n",
      "Epoch 6/10\n",
      "621/621 [==============================] - ETA: 0s - loss: 0.1076 - f1: 0.6317\n",
      "Epoch 00006: val_f1 improved from 0.58214 to 0.59003, saving model to model.weights\n",
      "621/621 [==============================] - 64s 104ms/step - loss: 0.1076 - f1: 0.6317 - val_loss: 0.1280 - val_f1: 0.5900\n",
      "Epoch 7/10\n",
      "621/621 [==============================] - ETA: 0s - loss: 0.1048 - f1: 0.6454\n",
      "Epoch 00007: val_f1 did not improve from 0.59003\n",
      "621/621 [==============================] - 64s 104ms/step - loss: 0.1048 - f1: 0.6454 - val_loss: 0.1292 - val_f1: 0.5811\n",
      "Epoch 8/10\n",
      "621/621 [==============================] - ETA: 0s - loss: 0.1022 - f1: 0.6595\n",
      "Epoch 00008: val_f1 did not improve from 0.59003\n",
      "621/621 [==============================] - 68s 109ms/step - loss: 0.1022 - f1: 0.6595 - val_loss: 0.1309 - val_f1: 0.5722\n",
      "Epoch 9/10\n",
      "621/621 [==============================] - ETA: 0s - loss: 0.0994 - f1: 0.6712\n",
      "Epoch 00009: val_f1 improved from 0.59003 to 0.60026, saving model to model.weights\n",
      "621/621 [==============================] - 65s 104ms/step - loss: 0.0994 - f1: 0.6712 - val_loss: 0.1319 - val_f1: 0.6003\n",
      "Epoch 10/10\n",
      "621/621 [==============================] - ETA: 0s - loss: 0.0971 - f1: 0.6834\n",
      "Epoch 00010: val_f1 did not improve from 0.60026\n",
      "621/621 [==============================] - 64s 104ms/step - loss: 0.0971 - f1: 0.6834 - val_loss: 0.1375 - val_f1: 0.5873\n"
     ]
    },
    {
     "data": {
      "text/plain": [
       "<tensorflow.python.keras.callbacks.History at 0x7fe840025ba8>"
      ]
     },
     "execution_count": 24,
     "metadata": {},
     "output_type": "execute_result"
    }
   ],
   "source": [
    "\n",
    "model.fit(X_train, y_train, \n",
    "          validation_data=(X_valid, y_valid),\n",
    "          batch_size=2000,\n",
    "         epochs=10,\n",
    "         callbacks=[checkpoint, early_stop])"
   ]
  },
  {
   "cell_type": "code",
   "execution_count": 25,
   "metadata": {},
   "outputs": [
    {
     "name": "stdout",
     "output_type": "stream",
     "text": [
      "dict_keys(['loss', 'f1', 'val_loss', 'val_f1'])\n"
     ]
    },
    {
     "data": {
      "image/png": "[encoded data removed]",
      "text/plain": [
       "<Figure size 432x288 with 1 Axes>"
      ]
     },
     "metadata": {
      "needs_background": "light"
     },
     "output_type": "display_data"
    }
   ],
   "source": [
    "print(model.history.history.keys())\n",
    "# summarize history for accuracy\n",
    "plt.plot(model.history.history['f1'])\n",
    "plt.plot(model.history.history['val_f1'])\n",
    "plt.title('model f1')\n",
    "plt.ylabel('f1')\n",
    "plt.xlabel('epoch')\n",
    "plt.legend(['train', 'val'], loc='upper left')\n",
    "plt.show()"
   ]
  },
  {
   "cell_type": "markdown",
   "metadata": {},
   "source": [
    "## Домашка\n",
    "\n",
    "Сверточные сети относительно хорошо масшабируются на длинные последовательности. Поэтому их часто применяют к отдельным символам, а не токенам. В домашке вам нужно будет обучить большую сверточную модель на символах (отличаться по сути будет только токенизация).\n",
    "\n",
    "При обучении используйте колбек для отслеживания лучшей модели. Ориентируйтесь на ф1 меру.\n",
    "\n",
    "Конкретнее задание такое:\n",
    "Обучите модель с минимум 15 слоями, где у каждого слоя разные параметры (Dropout, Conv1d и Pooling считаются слоями, остальное нет). Как мимнимум 4 слоя должны быть наложены друг на друга. Должен быть хотя бы один слой каждого типа.\n",
    "\n",
    "Советы: Начните с небольших сетей и постепенно добавляйте, не пытайтесь сразу собрать все слои. Сделайте размер эмбединга сильно меньше. Попробуйте паддинг поменьше. Символьная модель может обучаться намного дольше. Иногда кернел может крашиться просто так или из-за слишком больших матриц.\n"
   ]
  },
  {
   "cell_type": "markdown",
   "metadata": {},
   "source": [
    "Бонусный балл можно получить за изучение влияния предобработки (нужно ли приводить к нижнему регистру, нужно ли выкидывать не алфавитные символы, помогает ли замена цифр на определенный токен)."
   ]
  },
  {
   "cell_type": "code",
   "execution_count": null,
   "metadata": {},
   "outputs": [],
   "source": []
  }
 ],
 "metadata": {
  "kernelspec": {
   "display_name": "Python 3",
   "language": "python",
   "name": "python3"
  },
  "language_info": {
   "codemirror_mode": {
    "name": "ipython",
    "version": 3
   },
   "file_extension": ".py",
   "mimetype": "text/x-python",
   "name": "python",
   "nbconvert_exporter": "python",
   "pygments_lexer": "ipython3",
   "version": "3.6.9"
  }
 },
 "nbformat": 4,
 "nbformat_minor": 4
}
