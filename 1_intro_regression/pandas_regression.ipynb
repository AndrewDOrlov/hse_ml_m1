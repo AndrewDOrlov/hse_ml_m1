{
 "cells": [
  {
   "cell_type": "markdown",
   "metadata": {},
   "source": [
    "## Первичный анализ данных"
   ]
  },
  {
   "cell_type": "markdown",
   "metadata": {},
   "source": [
    "На этом занятии мы попробуем задачу регрессии. Данные возьмем вот эти - https://www.kaggle.com/budincsevity/szeged-weather\n",
    "\n",
    "Открытые датасеты можно найти тут - https://archive.ics.uci.edu/ml/index.php или тут https://github.com/sebastianruder/NLP-progress (самих датасетов тут нет, но есть ссылки)\n",
    "\n",
    "Также датасеты есть на kaggle (как соревновательные так и просто открытые)."
   ]
  },
  {
   "cell_type": "markdown",
   "metadata": {},
   "source": [
    "Прежде, чем переходить к обучению моделей, нужно найти\\собрать данные, загрузить их, почистить, удалить пропуски, предобработать, преобразовать в матрицы. Часто это занимает на порядок больше времени, чем само обучение, поэтому нужно сразу разобраться с всем этим в питоне."
   ]
  },
  {
   "cell_type": "markdown",
   "metadata": {},
   "source": [
    "Данные обычно хранятся в табличках (.csv, .tsv, .xls и т.д). Парсить их вручную не нужно, для этого есть библиотека pandas."
   ]
  },
  {
   "cell_type": "code",
   "execution_count": 47,
   "metadata": {},
   "outputs": [],
   "source": [
    "import pandas as pd"
   ]
  },
  {
   "cell_type": "code",
   "execution_count": 48,
   "metadata": {},
   "outputs": [],
   "source": [
    "weather_hist = pd.read_csv('weatherHistory.csv')"
   ]
  },
  {
   "cell_type": "markdown",
   "metadata": {},
   "source": [
    "Первым делом стоит посмотреть на размер датасета"
   ]
  },
  {
   "cell_type": "code",
   "execution_count": 49,
   "metadata": {},
   "outputs": [
    {
     "data": {
      "text/plain": [
       "(96453, 12)"
      ]
     },
     "execution_count": 49,
     "metadata": {},
     "output_type": "execute_result"
    }
   ],
   "source": [
    "weather_hist.shape\n",
    "# (#строчек, #колонок)"
   ]
  },
  {
   "cell_type": "markdown",
   "metadata": {},
   "source": [
    "Чтобы взглянуть на данные можно вывести несколько первых строчек."
   ]
  },
  {
   "cell_type": "code",
   "execution_count": 50,
   "metadata": {},
   "outputs": [
    {
     "data": {
      "text/html": [
       "<div>\n",
       "<style scoped>\n",
       "    .dataframe tbody tr th:only-of-type {\n",
       "        vertical-align: middle;\n",
       "    }\n",
       "\n",
       "    .dataframe tbody tr th {\n",
       "        vertical-align: top;\n",
       "    }\n",
       "\n",
       "    .dataframe thead th {\n",
       "        text-align: right;\n",
       "    }\n",
       "</style>\n",
       "<table border=\"1\" class=\"dataframe\">\n",
       "  <thead>\n",
       "    <tr style=\"text-align: right;\">\n",
       "      <th></th>\n",
       "      <th>Formatted Date</th>\n",
       "      <th>Summary</th>\n",
       "      <th>Precip Type</th>\n",
       "      <th>Temperature (C)</th>\n",
       "      <th>Apparent Temperature (C)</th>\n",
       "      <th>Humidity</th>\n",
       "      <th>Wind Speed (km/h)</th>\n",
       "      <th>Wind Bearing (degrees)</th>\n",
       "      <th>Visibility (km)</th>\n",
       "      <th>Loud Cover</th>\n",
       "      <th>Pressure (millibars)</th>\n",
       "      <th>Daily Summary</th>\n",
       "    </tr>\n",
       "  </thead>\n",
       "  <tbody>\n",
       "    <tr>\n",
       "      <th>0</th>\n",
       "      <td>2006-04-01 00:00:00.000 +0200</td>\n",
       "      <td>Partly Cloudy</td>\n",
       "      <td>rain</td>\n",
       "      <td>9.472222</td>\n",
       "      <td>7.388889</td>\n",
       "      <td>0.89</td>\n",
       "      <td>14.1197</td>\n",
       "      <td>251.0</td>\n",
       "      <td>15.8263</td>\n",
       "      <td>0.0</td>\n",
       "      <td>1015.13</td>\n",
       "      <td>Partly cloudy throughout the day.</td>\n",
       "    </tr>\n",
       "    <tr>\n",
       "      <th>1</th>\n",
       "      <td>2006-04-01 01:00:00.000 +0200</td>\n",
       "      <td>Partly Cloudy</td>\n",
       "      <td>rain</td>\n",
       "      <td>9.355556</td>\n",
       "      <td>7.227778</td>\n",
       "      <td>0.86</td>\n",
       "      <td>14.2646</td>\n",
       "      <td>259.0</td>\n",
       "      <td>15.8263</td>\n",
       "      <td>0.0</td>\n",
       "      <td>1015.63</td>\n",
       "      <td>Partly cloudy throughout the day.</td>\n",
       "    </tr>\n",
       "    <tr>\n",
       "      <th>2</th>\n",
       "      <td>2006-04-01 02:00:00.000 +0200</td>\n",
       "      <td>Mostly Cloudy</td>\n",
       "      <td>rain</td>\n",
       "      <td>9.377778</td>\n",
       "      <td>9.377778</td>\n",
       "      <td>0.89</td>\n",
       "      <td>3.9284</td>\n",
       "      <td>204.0</td>\n",
       "      <td>14.9569</td>\n",
       "      <td>0.0</td>\n",
       "      <td>1015.94</td>\n",
       "      <td>Partly cloudy throughout the day.</td>\n",
       "    </tr>\n",
       "    <tr>\n",
       "      <th>3</th>\n",
       "      <td>2006-04-01 03:00:00.000 +0200</td>\n",
       "      <td>Partly Cloudy</td>\n",
       "      <td>rain</td>\n",
       "      <td>8.288889</td>\n",
       "      <td>5.944444</td>\n",
       "      <td>0.83</td>\n",
       "      <td>14.1036</td>\n",
       "      <td>269.0</td>\n",
       "      <td>15.8263</td>\n",
       "      <td>0.0</td>\n",
       "      <td>1016.41</td>\n",
       "      <td>Partly cloudy throughout the day.</td>\n",
       "    </tr>\n",
       "    <tr>\n",
       "      <th>4</th>\n",
       "      <td>2006-04-01 04:00:00.000 +0200</td>\n",
       "      <td>Mostly Cloudy</td>\n",
       "      <td>rain</td>\n",
       "      <td>8.755556</td>\n",
       "      <td>6.977778</td>\n",
       "      <td>0.83</td>\n",
       "      <td>11.0446</td>\n",
       "      <td>259.0</td>\n",
       "      <td>15.8263</td>\n",
       "      <td>0.0</td>\n",
       "      <td>1016.51</td>\n",
       "      <td>Partly cloudy throughout the day.</td>\n",
       "    </tr>\n",
       "  </tbody>\n",
       "</table>\n",
       "</div>"
      ],
      "text/plain": [
       "                  Formatted Date        Summary Precip Type  Temperature (C)  \\\n",
       "0  2006-04-01 00:00:00.000 +0200  Partly Cloudy        rain         9.472222   \n",
       "1  2006-04-01 01:00:00.000 +0200  Partly Cloudy        rain         9.355556   \n",
       "2  2006-04-01 02:00:00.000 +0200  Mostly Cloudy        rain         9.377778   \n",
       "3  2006-04-01 03:00:00.000 +0200  Partly Cloudy        rain         8.288889   \n",
       "4  2006-04-01 04:00:00.000 +0200  Mostly Cloudy        rain         8.755556   \n",
       "\n",
       "   Apparent Temperature (C)  Humidity  Wind Speed (km/h)  \\\n",
       "0                  7.388889      0.89            14.1197   \n",
       "1                  7.227778      0.86            14.2646   \n",
       "2                  9.377778      0.89             3.9284   \n",
       "3                  5.944444      0.83            14.1036   \n",
       "4                  6.977778      0.83            11.0446   \n",
       "\n",
       "   Wind Bearing (degrees)  Visibility (km)  Loud Cover  Pressure (millibars)  \\\n",
       "0                   251.0          15.8263         0.0               1015.13   \n",
       "1                   259.0          15.8263         0.0               1015.63   \n",
       "2                   204.0          14.9569         0.0               1015.94   \n",
       "3                   269.0          15.8263         0.0               1016.41   \n",
       "4                   259.0          15.8263         0.0               1016.51   \n",
       "\n",
       "                       Daily Summary  \n",
       "0  Partly cloudy throughout the day.  \n",
       "1  Partly cloudy throughout the day.  \n",
       "2  Partly cloudy throughout the day.  \n",
       "3  Partly cloudy throughout the day.  \n",
       "4  Partly cloudy throughout the day.  "
      ]
     },
     "execution_count": 50,
     "metadata": {},
     "output_type": "execute_result"
    }
   ],
   "source": [
    "weather_hist.head(5)"
   ]
  },
  {
   "cell_type": "code",
   "execution_count": 51,
   "metadata": {},
   "outputs": [],
   "source": [
    "## По умолчанию Pandas выводит всего 20 столбцов и 60 строк, \n",
    "## поэтому если ваш датафрейм больше, воспользуйтесь функцией set_option\n",
    "pd.set_option('display.max_columns', 100)\n",
    "pd.set_option('display.max_rows', 100)"
   ]
  },
  {
   "cell_type": "markdown",
   "metadata": {},
   "source": [
    "Посмотреть все колонки датасета можно вот так"
   ]
  },
  {
   "cell_type": "code",
   "execution_count": 52,
   "metadata": {},
   "outputs": [
    {
     "data": {
      "text/plain": [
       "Index(['Formatted Date', 'Summary', 'Precip Type', 'Temperature (C)',\n",
       "       'Apparent Temperature (C)', 'Humidity', 'Wind Speed (km/h)',\n",
       "       'Wind Bearing (degrees)', 'Visibility (km)', 'Loud Cover',\n",
       "       'Pressure (millibars)', 'Daily Summary'],\n",
       "      dtype='object')"
      ]
     },
     "execution_count": 52,
     "metadata": {},
     "output_type": "execute_result"
    }
   ],
   "source": [
    "weather_hist.columns"
   ]
  },
  {
   "cell_type": "markdown",
   "metadata": {},
   "source": [
    "Пробелы и скобочки в названиях немного смущают. Давайте сделаем названия немного покороче. "
   ]
  },
  {
   "cell_type": "code",
   "execution_count": 53,
   "metadata": {},
   "outputs": [],
   "source": [
    "# можно переименовать колонки\n",
    "weather_hist.rename({'Formatted Date':'date', 'Temperature (C)':'temp', 'Apparent Temperature (C)':'temp_app',\n",
    "                    'Precip Type':'weather_type', 'Wind Speed (km/h)':'wind_speed', 'Humidity':'humidity',\n",
    "                    'Daily Summary':'summary'}, \n",
    "                    axis=1, inplace=True)"
   ]
  },
  {
   "cell_type": "code",
   "execution_count": 54,
   "metadata": {},
   "outputs": [],
   "source": [
    "# а можно создать новую колонку и присвоить ей значение старой, а затем отбросить старую\n",
    "weather_hist['visibility'] = weather_hist['Visibility (km)']\n",
    "weather_hist['wind_bearing'] = weather_hist['Wind Bearing (degrees)']\n",
    "weather_hist['pressure'] = weather_hist['Pressure (millibars)']\n",
    "weather_hist.drop(['Visibility (km)', 'Wind Bearing (degrees)', 'Pressure (millibars)'], axis=1, inplace=True)"
   ]
  },
  {
   "cell_type": "code",
   "execution_count": 55,
   "metadata": {},
   "outputs": [
    {
     "data": {
      "text/html": [
       "<div>\n",
       "<style scoped>\n",
       "    .dataframe tbody tr th:only-of-type {\n",
       "        vertical-align: middle;\n",
       "    }\n",
       "\n",
       "    .dataframe tbody tr th {\n",
       "        vertical-align: top;\n",
       "    }\n",
       "\n",
       "    .dataframe thead th {\n",
       "        text-align: right;\n",
       "    }\n",
       "</style>\n",
       "<table border=\"1\" class=\"dataframe\">\n",
       "  <thead>\n",
       "    <tr style=\"text-align: right;\">\n",
       "      <th></th>\n",
       "      <th>date</th>\n",
       "      <th>Summary</th>\n",
       "      <th>weather_type</th>\n",
       "      <th>temp</th>\n",
       "      <th>temp_app</th>\n",
       "      <th>humidity</th>\n",
       "      <th>wind_speed</th>\n",
       "      <th>Loud Cover</th>\n",
       "      <th>summary</th>\n",
       "      <th>visibility</th>\n",
       "      <th>wind_bearing</th>\n",
       "      <th>pressure</th>\n",
       "    </tr>\n",
       "  </thead>\n",
       "  <tbody>\n",
       "    <tr>\n",
       "      <th>0</th>\n",
       "      <td>2006-04-01 00:00:00.000 +0200</td>\n",
       "      <td>Partly Cloudy</td>\n",
       "      <td>rain</td>\n",
       "      <td>9.472222</td>\n",
       "      <td>7.388889</td>\n",
       "      <td>0.89</td>\n",
       "      <td>14.1197</td>\n",
       "      <td>0.0</td>\n",
       "      <td>Partly cloudy throughout the day.</td>\n",
       "      <td>15.8263</td>\n",
       "      <td>251.0</td>\n",
       "      <td>1015.13</td>\n",
       "    </tr>\n",
       "    <tr>\n",
       "      <th>1</th>\n",
       "      <td>2006-04-01 01:00:00.000 +0200</td>\n",
       "      <td>Partly Cloudy</td>\n",
       "      <td>rain</td>\n",
       "      <td>9.355556</td>\n",
       "      <td>7.227778</td>\n",
       "      <td>0.86</td>\n",
       "      <td>14.2646</td>\n",
       "      <td>0.0</td>\n",
       "      <td>Partly cloudy throughout the day.</td>\n",
       "      <td>15.8263</td>\n",
       "      <td>259.0</td>\n",
       "      <td>1015.63</td>\n",
       "    </tr>\n",
       "    <tr>\n",
       "      <th>2</th>\n",
       "      <td>2006-04-01 02:00:00.000 +0200</td>\n",
       "      <td>Mostly Cloudy</td>\n",
       "      <td>rain</td>\n",
       "      <td>9.377778</td>\n",
       "      <td>9.377778</td>\n",
       "      <td>0.89</td>\n",
       "      <td>3.9284</td>\n",
       "      <td>0.0</td>\n",
       "      <td>Partly cloudy throughout the day.</td>\n",
       "      <td>14.9569</td>\n",
       "      <td>204.0</td>\n",
       "      <td>1015.94</td>\n",
       "    </tr>\n",
       "    <tr>\n",
       "      <th>3</th>\n",
       "      <td>2006-04-01 03:00:00.000 +0200</td>\n",
       "      <td>Partly Cloudy</td>\n",
       "      <td>rain</td>\n",
       "      <td>8.288889</td>\n",
       "      <td>5.944444</td>\n",
       "      <td>0.83</td>\n",
       "      <td>14.1036</td>\n",
       "      <td>0.0</td>\n",
       "      <td>Partly cloudy throughout the day.</td>\n",
       "      <td>15.8263</td>\n",
       "      <td>269.0</td>\n",
       "      <td>1016.41</td>\n",
       "    </tr>\n",
       "    <tr>\n",
       "      <th>4</th>\n",
       "      <td>2006-04-01 04:00:00.000 +0200</td>\n",
       "      <td>Mostly Cloudy</td>\n",
       "      <td>rain</td>\n",
       "      <td>8.755556</td>\n",
       "      <td>6.977778</td>\n",
       "      <td>0.83</td>\n",
       "      <td>11.0446</td>\n",
       "      <td>0.0</td>\n",
       "      <td>Partly cloudy throughout the day.</td>\n",
       "      <td>15.8263</td>\n",
       "      <td>259.0</td>\n",
       "      <td>1016.51</td>\n",
       "    </tr>\n",
       "  </tbody>\n",
       "</table>\n",
       "</div>"
      ],
      "text/plain": [
       "                            date        Summary weather_type      temp  \\\n",
       "0  2006-04-01 00:00:00.000 +0200  Partly Cloudy         rain  9.472222   \n",
       "1  2006-04-01 01:00:00.000 +0200  Partly Cloudy         rain  9.355556   \n",
       "2  2006-04-01 02:00:00.000 +0200  Mostly Cloudy         rain  9.377778   \n",
       "3  2006-04-01 03:00:00.000 +0200  Partly Cloudy         rain  8.288889   \n",
       "4  2006-04-01 04:00:00.000 +0200  Mostly Cloudy         rain  8.755556   \n",
       "\n",
       "   temp_app  humidity  wind_speed  Loud Cover  \\\n",
       "0  7.388889      0.89     14.1197         0.0   \n",
       "1  7.227778      0.86     14.2646         0.0   \n",
       "2  9.377778      0.89      3.9284         0.0   \n",
       "3  5.944444      0.83     14.1036         0.0   \n",
       "4  6.977778      0.83     11.0446         0.0   \n",
       "\n",
       "                             summary  visibility  wind_bearing  pressure  \n",
       "0  Partly cloudy throughout the day.     15.8263         251.0   1015.13  \n",
       "1  Partly cloudy throughout the day.     15.8263         259.0   1015.63  \n",
       "2  Partly cloudy throughout the day.     14.9569         204.0   1015.94  \n",
       "3  Partly cloudy throughout the day.     15.8263         269.0   1016.41  \n",
       "4  Partly cloudy throughout the day.     15.8263         259.0   1016.51  "
      ]
     },
     "execution_count": 55,
     "metadata": {},
     "output_type": "execute_result"
    }
   ],
   "source": [
    "weather_hist.head(5)"
   ]
  },
  {
   "cell_type": "markdown",
   "metadata": {},
   "source": [
    "В 5 строчках, на которые мы посмотрели в колонке Loud Cover одни нули. Давайте проверим, не бесполезная ли это колонка."
   ]
  },
  {
   "cell_type": "code",
   "execution_count": 56,
   "metadata": {},
   "outputs": [
    {
     "data": {
      "text/plain": [
       "array([0.])"
      ]
     },
     "execution_count": 56,
     "metadata": {},
     "output_type": "execute_result"
    }
   ],
   "source": [
    "# кроме нулей ничего нет\n",
    "weather_hist['Loud Cover'].unique()"
   ]
  },
  {
   "cell_type": "markdown",
   "metadata": {},
   "source": [
    "Отбросим эту колонку"
   ]
  },
  {
   "cell_type": "code",
   "execution_count": 57,
   "metadata": {},
   "outputs": [],
   "source": [
    "weather_hist.drop(['Loud Cover'], axis=1, inplace=True)"
   ]
  },
  {
   "cell_type": "markdown",
   "metadata": {},
   "source": [
    "Можно посчитать статистики для отдельных колонок"
   ]
  },
  {
   "cell_type": "code",
   "execution_count": 58,
   "metadata": {},
   "outputs": [
    {
     "data": {
      "text/plain": [
       "(11.93267843751188, 9.551546320657026)"
      ]
     },
     "execution_count": 58,
     "metadata": {},
     "output_type": "execute_result"
    }
   ],
   "source": [
    "weather_hist['temp'].mean(), weather_hist['temp'].std()"
   ]
  },
  {
   "cell_type": "code",
   "execution_count": null,
   "metadata": {},
   "outputs": [],
   "source": []
  },
  {
   "cell_type": "code",
   "execution_count": 59,
   "metadata": {},
   "outputs": [
    {
     "data": {
      "text/plain": [
       "(-27.716666666666665, 39.344444444444434)"
      ]
     },
     "execution_count": 59,
     "metadata": {},
     "output_type": "execute_result"
    }
   ],
   "source": [
    "weather_hist['temp_app'].min(), weather_hist['temp_app'].max()"
   ]
  },
  {
   "cell_type": "markdown",
   "metadata": {},
   "source": [
    "Есть удобная функция .describe(), которая собирает основные статистики для всех численных колонок."
   ]
  },
  {
   "cell_type": "code",
   "execution_count": 60,
   "metadata": {},
   "outputs": [
    {
     "data": {
      "text/html": [
       "<div>\n",
       "<style scoped>\n",
       "    .dataframe tbody tr th:only-of-type {\n",
       "        vertical-align: middle;\n",
       "    }\n",
       "\n",
       "    .dataframe tbody tr th {\n",
       "        vertical-align: top;\n",
       "    }\n",
       "\n",
       "    .dataframe thead th {\n",
       "        text-align: right;\n",
       "    }\n",
       "</style>\n",
       "<table border=\"1\" class=\"dataframe\">\n",
       "  <thead>\n",
       "    <tr style=\"text-align: right;\">\n",
       "      <th></th>\n",
       "      <th>temp</th>\n",
       "      <th>temp_app</th>\n",
       "      <th>humidity</th>\n",
       "      <th>wind_speed</th>\n",
       "      <th>visibility</th>\n",
       "      <th>wind_bearing</th>\n",
       "      <th>pressure</th>\n",
       "    </tr>\n",
       "  </thead>\n",
       "  <tbody>\n",
       "    <tr>\n",
       "      <th>count</th>\n",
       "      <td>96453.000000</td>\n",
       "      <td>96453.000000</td>\n",
       "      <td>96453.000000</td>\n",
       "      <td>96453.000000</td>\n",
       "      <td>96453.000000</td>\n",
       "      <td>96453.000000</td>\n",
       "      <td>96453.000000</td>\n",
       "    </tr>\n",
       "    <tr>\n",
       "      <th>mean</th>\n",
       "      <td>11.932678</td>\n",
       "      <td>10.855029</td>\n",
       "      <td>0.734899</td>\n",
       "      <td>10.810640</td>\n",
       "      <td>10.347325</td>\n",
       "      <td>187.509232</td>\n",
       "      <td>1003.235956</td>\n",
       "    </tr>\n",
       "    <tr>\n",
       "      <th>std</th>\n",
       "      <td>9.551546</td>\n",
       "      <td>10.696847</td>\n",
       "      <td>0.195473</td>\n",
       "      <td>6.913571</td>\n",
       "      <td>4.192123</td>\n",
       "      <td>107.383428</td>\n",
       "      <td>116.969906</td>\n",
       "    </tr>\n",
       "    <tr>\n",
       "      <th>min</th>\n",
       "      <td>-21.822222</td>\n",
       "      <td>-27.716667</td>\n",
       "      <td>0.000000</td>\n",
       "      <td>0.000000</td>\n",
       "      <td>0.000000</td>\n",
       "      <td>0.000000</td>\n",
       "      <td>0.000000</td>\n",
       "    </tr>\n",
       "    <tr>\n",
       "      <th>25%</th>\n",
       "      <td>4.688889</td>\n",
       "      <td>2.311111</td>\n",
       "      <td>0.600000</td>\n",
       "      <td>5.828200</td>\n",
       "      <td>8.339800</td>\n",
       "      <td>116.000000</td>\n",
       "      <td>1011.900000</td>\n",
       "    </tr>\n",
       "    <tr>\n",
       "      <th>50%</th>\n",
       "      <td>12.000000</td>\n",
       "      <td>12.000000</td>\n",
       "      <td>0.780000</td>\n",
       "      <td>9.965900</td>\n",
       "      <td>10.046400</td>\n",
       "      <td>180.000000</td>\n",
       "      <td>1016.450000</td>\n",
       "    </tr>\n",
       "    <tr>\n",
       "      <th>75%</th>\n",
       "      <td>18.838889</td>\n",
       "      <td>18.838889</td>\n",
       "      <td>0.890000</td>\n",
       "      <td>14.135800</td>\n",
       "      <td>14.812000</td>\n",
       "      <td>290.000000</td>\n",
       "      <td>1021.090000</td>\n",
       "    </tr>\n",
       "    <tr>\n",
       "      <th>max</th>\n",
       "      <td>39.905556</td>\n",
       "      <td>39.344444</td>\n",
       "      <td>1.000000</td>\n",
       "      <td>63.852600</td>\n",
       "      <td>16.100000</td>\n",
       "      <td>359.000000</td>\n",
       "      <td>1046.380000</td>\n",
       "    </tr>\n",
       "  </tbody>\n",
       "</table>\n",
       "</div>"
      ],
      "text/plain": [
       "               temp      temp_app      humidity    wind_speed    visibility  \\\n",
       "count  96453.000000  96453.000000  96453.000000  96453.000000  96453.000000   \n",
       "mean      11.932678     10.855029      0.734899     10.810640     10.347325   \n",
       "std        9.551546     10.696847      0.195473      6.913571      4.192123   \n",
       "min      -21.822222    -27.716667      0.000000      0.000000      0.000000   \n",
       "25%        4.688889      2.311111      0.600000      5.828200      8.339800   \n",
       "50%       12.000000     12.000000      0.780000      9.965900     10.046400   \n",
       "75%       18.838889     18.838889      0.890000     14.135800     14.812000   \n",
       "max       39.905556     39.344444      1.000000     63.852600     16.100000   \n",
       "\n",
       "       wind_bearing      pressure  \n",
       "count  96453.000000  96453.000000  \n",
       "mean     187.509232   1003.235956  \n",
       "std      107.383428    116.969906  \n",
       "min        0.000000      0.000000  \n",
       "25%      116.000000   1011.900000  \n",
       "50%      180.000000   1016.450000  \n",
       "75%      290.000000   1021.090000  \n",
       "max      359.000000   1046.380000  "
      ]
     },
     "execution_count": 60,
     "metadata": {},
     "output_type": "execute_result"
    }
   ],
   "source": [
    "weather_hist.describe()"
   ]
  },
  {
   "cell_type": "code",
   "execution_count": 61,
   "metadata": {},
   "outputs": [
    {
     "name": "stdout",
     "output_type": "stream",
     "text": [
      "<class 'pandas.core.frame.DataFrame'>\n",
      "RangeIndex: 96453 entries, 0 to 96452\n",
      "Data columns (total 11 columns):\n",
      "date            96453 non-null object\n",
      "Summary         96453 non-null object\n",
      "weather_type    95936 non-null object\n",
      "temp            96453 non-null float64\n",
      "temp_app        96453 non-null float64\n",
      "humidity        96453 non-null float64\n",
      "wind_speed      96453 non-null float64\n",
      "summary         96453 non-null object\n",
      "visibility      96453 non-null float64\n",
      "wind_bearing    96453 non-null float64\n",
      "pressure        96453 non-null float64\n",
      "dtypes: float64(7), object(4)\n",
      "memory usage: 8.1+ MB\n"
     ]
    }
   ],
   "source": [
    "weather_hist.info()"
   ]
  },
  {
   "cell_type": "markdown",
   "metadata": {},
   "source": [
    "Из этих статистик уже можно сделать какие-то выводы.  \n",
    "\n",
    "1) видно, что в оставшихся данных нет пропусков.   \n",
    "2) видно, что у колонок разные единицы измерения и соответствено значения разные (где-то от 0 до 1, где-то от -21 до 27)  \n",
    "3) Temperature (C) и Apparent Temperature (C) очень похожи, но если посмотреть на Min и Max, то можно сделать вывод, что ощущаемая температура может отличаться только в меньшую сторону  "
   ]
  },
  {
   "cell_type": "markdown",
   "metadata": {},
   "source": [
    "Чтобы посмотреть, как колонки связаны между собой, можно посчитать корреляцию."
   ]
  },
  {
   "cell_type": "code",
   "execution_count": 62,
   "metadata": {},
   "outputs": [
    {
     "data": {
      "text/html": [
       "<div>\n",
       "<style scoped>\n",
       "    .dataframe tbody tr th:only-of-type {\n",
       "        vertical-align: middle;\n",
       "    }\n",
       "\n",
       "    .dataframe tbody tr th {\n",
       "        vertical-align: top;\n",
       "    }\n",
       "\n",
       "    .dataframe thead th {\n",
       "        text-align: right;\n",
       "    }\n",
       "</style>\n",
       "<table border=\"1\" class=\"dataframe\">\n",
       "  <thead>\n",
       "    <tr style=\"text-align: right;\">\n",
       "      <th></th>\n",
       "      <th>temp</th>\n",
       "      <th>temp_app</th>\n",
       "      <th>humidity</th>\n",
       "      <th>wind_speed</th>\n",
       "      <th>visibility</th>\n",
       "      <th>wind_bearing</th>\n",
       "      <th>pressure</th>\n",
       "    </tr>\n",
       "  </thead>\n",
       "  <tbody>\n",
       "    <tr>\n",
       "      <th>temp</th>\n",
       "      <td>1.000000</td>\n",
       "      <td>0.992629</td>\n",
       "      <td>-0.632255</td>\n",
       "      <td>0.008957</td>\n",
       "      <td>0.392847</td>\n",
       "      <td>0.029988</td>\n",
       "      <td>-0.005447</td>\n",
       "    </tr>\n",
       "    <tr>\n",
       "      <th>temp_app</th>\n",
       "      <td>0.992629</td>\n",
       "      <td>1.000000</td>\n",
       "      <td>-0.602571</td>\n",
       "      <td>-0.056650</td>\n",
       "      <td>0.381718</td>\n",
       "      <td>0.029031</td>\n",
       "      <td>-0.000219</td>\n",
       "    </tr>\n",
       "    <tr>\n",
       "      <th>humidity</th>\n",
       "      <td>-0.632255</td>\n",
       "      <td>-0.602571</td>\n",
       "      <td>1.000000</td>\n",
       "      <td>-0.224951</td>\n",
       "      <td>-0.369173</td>\n",
       "      <td>0.000735</td>\n",
       "      <td>0.005454</td>\n",
       "    </tr>\n",
       "    <tr>\n",
       "      <th>wind_speed</th>\n",
       "      <td>0.008957</td>\n",
       "      <td>-0.056650</td>\n",
       "      <td>-0.224951</td>\n",
       "      <td>1.000000</td>\n",
       "      <td>0.100749</td>\n",
       "      <td>0.103822</td>\n",
       "      <td>-0.049263</td>\n",
       "    </tr>\n",
       "    <tr>\n",
       "      <th>visibility</th>\n",
       "      <td>0.392847</td>\n",
       "      <td>0.381718</td>\n",
       "      <td>-0.369173</td>\n",
       "      <td>0.100749</td>\n",
       "      <td>1.000000</td>\n",
       "      <td>0.047594</td>\n",
       "      <td>0.059818</td>\n",
       "    </tr>\n",
       "    <tr>\n",
       "      <th>wind_bearing</th>\n",
       "      <td>0.029988</td>\n",
       "      <td>0.029031</td>\n",
       "      <td>0.000735</td>\n",
       "      <td>0.103822</td>\n",
       "      <td>0.047594</td>\n",
       "      <td>1.000000</td>\n",
       "      <td>-0.011651</td>\n",
       "    </tr>\n",
       "    <tr>\n",
       "      <th>pressure</th>\n",
       "      <td>-0.005447</td>\n",
       "      <td>-0.000219</td>\n",
       "      <td>0.005454</td>\n",
       "      <td>-0.049263</td>\n",
       "      <td>0.059818</td>\n",
       "      <td>-0.011651</td>\n",
       "      <td>1.000000</td>\n",
       "    </tr>\n",
       "  </tbody>\n",
       "</table>\n",
       "</div>"
      ],
      "text/plain": [
       "                  temp  temp_app  humidity  wind_speed  visibility  \\\n",
       "temp          1.000000  0.992629 -0.632255    0.008957    0.392847   \n",
       "temp_app      0.992629  1.000000 -0.602571   -0.056650    0.381718   \n",
       "humidity     -0.632255 -0.602571  1.000000   -0.224951   -0.369173   \n",
       "wind_speed    0.008957 -0.056650 -0.224951    1.000000    0.100749   \n",
       "visibility    0.392847  0.381718 -0.369173    0.100749    1.000000   \n",
       "wind_bearing  0.029988  0.029031  0.000735    0.103822    0.047594   \n",
       "pressure     -0.005447 -0.000219  0.005454   -0.049263    0.059818   \n",
       "\n",
       "              wind_bearing  pressure  \n",
       "temp              0.029988 -0.005447  \n",
       "temp_app          0.029031 -0.000219  \n",
       "humidity          0.000735  0.005454  \n",
       "wind_speed        0.103822 -0.049263  \n",
       "visibility        0.047594  0.059818  \n",
       "wind_bearing      1.000000 -0.011651  \n",
       "pressure         -0.011651  1.000000  "
      ]
     },
     "execution_count": 62,
     "metadata": {},
     "output_type": "execute_result"
    }
   ],
   "source": [
    "# метод corr считает корреляцию всех колонок со всеми (острожнее, если у вас большой датасет)\n",
    "weather_hist.corr()"
   ]
  },
  {
   "cell_type": "markdown",
   "metadata": {},
   "source": [
    "Для наглядности можно нарисовать тепловую карту."
   ]
  },
  {
   "cell_type": "code",
   "execution_count": 63,
   "metadata": {},
   "outputs": [],
   "source": [
    "import seaborn as sns\n",
    "import matplotlib.pyplot as plt\n",
    "%matplotlib inline"
   ]
  },
  {
   "cell_type": "code",
   "execution_count": 64,
   "metadata": {},
   "outputs": [
    {
     "data": {
      "image/png": "[encoded data removed]",
      "text/plain": [
       "<Figure size 720x360 with 2 Axes>"
      ]
     },
     "metadata": {
      "needs_background": "light"
     },
     "output_type": "display_data"
    }
   ],
   "source": [
    "\n",
    "fig, ax = plt.subplots(figsize=(10,5))\n",
    "sns.heatmap(data=weather_hist.corr(), \n",
    "            annot=True, ax=ax)\n",
    "plt.title(\"Корреляция\")\n",
    "plt.show()"
   ]
  },
  {
   "cell_type": "markdown",
   "metadata": {},
   "source": [
    "Из тепловой карты можно сделать вывод, что 1) влажность негативно скоррелирована с температурой, а вот 2) скорость ветра с температурой почти никак не связана, хотя 3) связана, с влажностью. 4) Видимость связана с влажностью и с температурой. "
   ]
  },
  {
   "cell_type": "markdown",
   "metadata": {},
   "source": [
    "Ещё можно нарисовать ящик с усами для каждой из колонок, чтобы посмотреть, нет ли в данных выбросов:"
   ]
  },
  {
   "cell_type": "code",
   "execution_count": 21,
   "metadata": {},
   "outputs": [
    {
     "data": {
      "image/png": "[encoded data removed]",
      "text/plain": [
       "<Figure size 432x288 with 1 Axes>"
      ]
     },
     "metadata": {
      "needs_background": "light"
     },
     "output_type": "display_data"
    }
   ],
   "source": [
    "ax = sns.boxplot(data=weather_hist[['temp', 'temp_app']])"
   ]
  },
  {
   "cell_type": "code",
   "execution_count": 22,
   "metadata": {},
   "outputs": [
    {
     "data": {
      "image/png": "[encoded data removed]",
      "text/plain": [
       "<Figure size 432x288 with 1 Axes>"
      ]
     },
     "metadata": {
      "needs_background": "light"
     },
     "output_type": "display_data"
    }
   ],
   "source": [
    "ax = sns.boxplot(data=weather_hist['wind_speed'])"
   ]
  },
  {
   "cell_type": "code",
   "execution_count": 23,
   "metadata": {},
   "outputs": [
    {
     "data": {
      "image/png": "[encoded data removed]",
      "text/plain": [
       "<Figure size 432x288 with 1 Axes>"
      ]
     },
     "metadata": {
      "needs_background": "light"
     },
     "output_type": "display_data"
    }
   ],
   "source": [
    "ax = sns.boxplot(data=weather_hist['visibility'])"
   ]
  },
  {
   "cell_type": "code",
   "execution_count": 24,
   "metadata": {},
   "outputs": [
    {
     "data": {
      "image/png": "[encoded data removed]",
      "text/plain": [
       "<Figure size 432x288 with 1 Axes>"
      ]
     },
     "metadata": {
      "needs_background": "light"
     },
     "output_type": "display_data"
    }
   ],
   "source": [
    "ax = sns.boxplot(data=weather_hist['pressure'])"
   ]
  },
  {
   "cell_type": "markdown",
   "metadata": {},
   "source": [
    "Нулевым давление быть не может. Скорее всего это пропуск в данных. Посмотрим сколько таких 0."
   ]
  },
  {
   "cell_type": "code",
   "execution_count": 25,
   "metadata": {
    "scrolled": true
   },
   "outputs": [
    {
     "data": {
      "text/plain": [
       "0.00       1288\n",
       "1017.70     123\n",
       "1015.00     119\n",
       "1018.00     118\n",
       "1015.80     118\n",
       "1019.10     117\n",
       "1016.70     117\n",
       "1016.90     115\n",
       "1015.90     114\n",
       "1017.40     114\n",
       "1016.50     114\n",
       "1017.30     114\n",
       "1018.70     112\n",
       "1017.10     112\n",
       "1017.60     111\n",
       "1015.10     111\n",
       "1014.90     110\n",
       "1016.10     110\n",
       "1017.90     109\n",
       "1019.60     108\n",
       "1016.80     108\n",
       "1017.80     107\n",
       "1014.50     106\n",
       "1018.90     105\n",
       "1020.20     105\n",
       "1019.70     105\n",
       "1017.20     104\n",
       "1019.00     104\n",
       "1016.30     104\n",
       "1016.60     104\n",
       "1015.70     104\n",
       "1018.20     103\n",
       "1015.50     102\n",
       "1016.40     101\n",
       "1017.50     101\n",
       "1014.70     100\n",
       "1014.40      98\n",
       "1019.90      97\n",
       "1018.80      96\n",
       "1013.80      96\n",
       "1018.10      96\n",
       "1014.80      96\n",
       "1013.50      95\n",
       "1015.30      95\n",
       "1018.40      95\n",
       "1015.20      95\n",
       "1014.60      94\n",
       "1017.00      93\n",
       "1018.60      93\n",
       "1019.80      92\n",
       "           ... \n",
       "1040.28       1\n",
       "1044.35       1\n",
       "1002.36       1\n",
       "991.75        1\n",
       "986.87        1\n",
       "1044.60       1\n",
       "996.57        1\n",
       "1043.78       1\n",
       "1000.29       1\n",
       "994.77        1\n",
       "987.06        1\n",
       "994.52        1\n",
       "1036.44       1\n",
       "994.27        1\n",
       "992.25        1\n",
       "997.37        1\n",
       "1036.69       1\n",
       "986.29        1\n",
       "1040.46       1\n",
       "1039.04       1\n",
       "1044.71       1\n",
       "995.06        1\n",
       "1045.30       1\n",
       "995.73        1\n",
       "995.81        1\n",
       "1038.32       1\n",
       "1033.68       1\n",
       "992.82        1\n",
       "1042.45       1\n",
       "988.31        1\n",
       "995.43        1\n",
       "1043.60       1\n",
       "996.93        1\n",
       "1040.94       1\n",
       "988.50        1\n",
       "1040.71       1\n",
       "985.62        1\n",
       "1035.54       1\n",
       "1043.71       1\n",
       "996.43        1\n",
       "990.06        1\n",
       "1040.19       1\n",
       "1042.85       1\n",
       "989.00        1\n",
       "976.76        1\n",
       "991.31        1\n",
       "989.50        1\n",
       "1038.54       1\n",
       "1040.10       1\n",
       "1000.84       1\n",
       "Name: pressure, Length: 4979, dtype: int64"
      ]
     },
     "execution_count": 25,
     "metadata": {},
     "output_type": "execute_result"
    }
   ],
   "source": [
    "weather_hist['pressure'].value_counts()"
   ]
  },
  {
   "cell_type": "code",
   "execution_count": 23,
   "metadata": {},
   "outputs": [
    {
     "name": "stdout",
     "output_type": "stream",
     "text": [
      "<class 'pandas.core.frame.DataFrame'>\n",
      "RangeIndex: 96453 entries, 0 to 96452\n",
      "Data columns (total 11 columns):\n",
      "date            96453 non-null object\n",
      "Summary         96453 non-null object\n",
      "weather_type    95936 non-null object\n",
      "temp            96453 non-null float64\n",
      "temp_app        96453 non-null float64\n",
      "humidity        96453 non-null float64\n",
      "wind_speed      96453 non-null float64\n",
      "summary         96453 non-null object\n",
      "visibility      96453 non-null float64\n",
      "wind_bearing    96453 non-null float64\n",
      "pressure        96453 non-null float64\n",
      "dtypes: float64(7), object(4)\n",
      "memory usage: 8.1+ MB\n"
     ]
    }
   ],
   "source": [
    "weather_hist.info()"
   ]
  },
  {
   "cell_type": "markdown",
   "metadata": {},
   "source": [
    "С такими нулями можно поступить двумя способами - просто выкинуть или заменить на какое-то более реальное значение (например, усредненное давление)."
   ]
  },
  {
   "cell_type": "code",
   "execution_count": 24,
   "metadata": {},
   "outputs": [],
   "source": [
    "weather_hist = weather_hist[weather_hist['pressure'] > 100]"
   ]
  },
  {
   "cell_type": "code",
   "execution_count": 45,
   "metadata": {},
   "outputs": [],
   "source": [
    "weather_hist[weather_hist['pressure'] < 100]['pressure'] = weather_hist['pressure'].mean()"
   ]
  },
  {
   "cell_type": "code",
   "execution_count": 46,
   "metadata": {},
   "outputs": [
    {
     "data": {
      "image/png": "[encoded data removed]",
      "text/plain": [
       "<Figure size 432x288 with 1 Axes>"
      ]
     },
     "metadata": {
      "needs_background": "light"
     },
     "output_type": "display_data"
    }
   ],
   "source": [
    "ax = sns.boxplot(data=weather_hist['pressure'])"
   ]
  },
  {
   "cell_type": "markdown",
   "metadata": {},
   "source": [
    "Теперь давайте подключим категориальные переменные."
   ]
  },
  {
   "cell_type": "markdown",
   "metadata": {},
   "source": [
    "Можно сгруппировать данные по значениям rain и snow и посчитать те же статистики внутри этих групп."
   ]
  },
  {
   "cell_type": "code",
   "execution_count": 66,
   "metadata": {},
   "outputs": [
    {
     "data": {
      "text/plain": [
       "array(['Partly Cloudy', 'Mostly Cloudy', 'Overcast', 'Foggy',\n",
       "       'Breezy and Mostly Cloudy', 'Clear', 'Breezy and Partly Cloudy',\n",
       "       'Breezy and Overcast', 'Humid and Mostly Cloudy',\n",
       "       'Humid and Partly Cloudy', 'Windy and Foggy', 'Windy and Overcast',\n",
       "       'Breezy and Foggy', 'Windy and Partly Cloudy', 'Breezy',\n",
       "       'Dry and Partly Cloudy', 'Windy and Mostly Cloudy',\n",
       "       'Dangerously Windy and Partly Cloudy', 'Dry', 'Windy',\n",
       "       'Humid and Overcast', 'Light Rain', 'Drizzle', 'Windy and Dry',\n",
       "       'Dry and Mostly Cloudy', 'Breezy and Dry', 'Rain'], dtype=object)"
      ]
     },
     "execution_count": 66,
     "metadata": {},
     "output_type": "execute_result"
    }
   ],
   "source": [
    "weather_hist.Summary.unique()"
   ]
  },
  {
   "cell_type": "code",
   "execution_count": 67,
   "metadata": {},
   "outputs": [
    {
     "data": {
      "text/html": [
       "<div>\n",
       "<style scoped>\n",
       "    .dataframe tbody tr th:only-of-type {\n",
       "        vertical-align: middle;\n",
       "    }\n",
       "\n",
       "    .dataframe tbody tr th {\n",
       "        vertical-align: top;\n",
       "    }\n",
       "\n",
       "    .dataframe thead tr th {\n",
       "        text-align: left;\n",
       "    }\n",
       "\n",
       "    .dataframe thead tr:last-of-type th {\n",
       "        text-align: right;\n",
       "    }\n",
       "</style>\n",
       "<table border=\"1\" class=\"dataframe\">\n",
       "  <thead>\n",
       "    <tr>\n",
       "      <th></th>\n",
       "      <th>temp</th>\n",
       "      <th>temp_app</th>\n",
       "      <th>humidity</th>\n",
       "      <th>wind_speed</th>\n",
       "      <th>visibility</th>\n",
       "      <th>wind_bearing</th>\n",
       "      <th>pressure</th>\n",
       "    </tr>\n",
       "    <tr>\n",
       "      <th></th>\n",
       "      <th>mean</th>\n",
       "      <th>mean</th>\n",
       "      <th>mean</th>\n",
       "      <th>mean</th>\n",
       "      <th>mean</th>\n",
       "      <th>mean</th>\n",
       "      <th>mean</th>\n",
       "    </tr>\n",
       "    <tr>\n",
       "      <th>Summary</th>\n",
       "      <th></th>\n",
       "      <th></th>\n",
       "      <th></th>\n",
       "      <th></th>\n",
       "      <th></th>\n",
       "      <th></th>\n",
       "      <th></th>\n",
       "    </tr>\n",
       "  </thead>\n",
       "  <tbody>\n",
       "    <tr>\n",
       "      <th>Breezy</th>\n",
       "      <td>7.922016</td>\n",
       "      <td>3.387654</td>\n",
       "      <td>0.637778</td>\n",
       "      <td>32.143948</td>\n",
       "      <td>9.577115</td>\n",
       "      <td>233.018519</td>\n",
       "      <td>563.917593</td>\n",
       "    </tr>\n",
       "    <tr>\n",
       "      <th>Breezy and Dry</th>\n",
       "      <td>21.111111</td>\n",
       "      <td>21.111111</td>\n",
       "      <td>0.260000</td>\n",
       "      <td>33.810000</td>\n",
       "      <td>9.982000</td>\n",
       "      <td>240.000000</td>\n",
       "      <td>1021.600000</td>\n",
       "    </tr>\n",
       "    <tr>\n",
       "      <th>Breezy and Foggy</th>\n",
       "      <td>-0.510317</td>\n",
       "      <td>-7.403492</td>\n",
       "      <td>0.938571</td>\n",
       "      <td>33.477880</td>\n",
       "      <td>1.621960</td>\n",
       "      <td>160.628571</td>\n",
       "      <td>1008.934000</td>\n",
       "    </tr>\n",
       "    <tr>\n",
       "      <th>Breezy and Mostly Cloudy</th>\n",
       "      <td>11.093411</td>\n",
       "      <td>8.680588</td>\n",
       "      <td>0.637054</td>\n",
       "      <td>33.386345</td>\n",
       "      <td>11.478302</td>\n",
       "      <td>227.639535</td>\n",
       "      <td>1000.622984</td>\n",
       "    </tr>\n",
       "    <tr>\n",
       "      <th>Breezy and Overcast</th>\n",
       "      <td>7.241614</td>\n",
       "      <td>3.492235</td>\n",
       "      <td>0.763144</td>\n",
       "      <td>33.037566</td>\n",
       "      <td>11.067012</td>\n",
       "      <td>213.526515</td>\n",
       "      <td>1002.114924</td>\n",
       "    </tr>\n",
       "    <tr>\n",
       "      <th>Breezy and Partly Cloudy</th>\n",
       "      <td>12.492761</td>\n",
       "      <td>9.989349</td>\n",
       "      <td>0.545803</td>\n",
       "      <td>33.532796</td>\n",
       "      <td>11.326058</td>\n",
       "      <td>259.282383</td>\n",
       "      <td>996.398212</td>\n",
       "    </tr>\n",
       "    <tr>\n",
       "      <th>Clear</th>\n",
       "      <td>11.925109</td>\n",
       "      <td>11.040338</td>\n",
       "      <td>0.729708</td>\n",
       "      <td>8.141352</td>\n",
       "      <td>11.441788</td>\n",
       "      <td>179.180257</td>\n",
       "      <td>951.763532</td>\n",
       "    </tr>\n",
       "    <tr>\n",
       "      <th>Dangerously Windy and Partly Cloudy</th>\n",
       "      <td>8.944444</td>\n",
       "      <td>3.483333</td>\n",
       "      <td>0.490000</td>\n",
       "      <td>63.852600</td>\n",
       "      <td>11.447100</td>\n",
       "      <td>307.000000</td>\n",
       "      <td>1009.050000</td>\n",
       "    </tr>\n",
       "    <tr>\n",
       "      <th>Drizzle</th>\n",
       "      <td>10.847578</td>\n",
       "      <td>10.011681</td>\n",
       "      <td>0.867949</td>\n",
       "      <td>10.356428</td>\n",
       "      <td>8.069815</td>\n",
       "      <td>177.307692</td>\n",
       "      <td>1014.931538</td>\n",
       "    </tr>\n",
       "    <tr>\n",
       "      <th>Dry</th>\n",
       "      <td>29.083660</td>\n",
       "      <td>28.273529</td>\n",
       "      <td>0.230294</td>\n",
       "      <td>14.713979</td>\n",
       "      <td>10.250965</td>\n",
       "      <td>230.294118</td>\n",
       "      <td>1016.391765</td>\n",
       "    </tr>\n",
       "    <tr>\n",
       "      <th>Dry and Mostly Cloudy</th>\n",
       "      <td>26.838492</td>\n",
       "      <td>25.929365</td>\n",
       "      <td>0.242143</td>\n",
       "      <td>13.667750</td>\n",
       "      <td>10.115400</td>\n",
       "      <td>187.785714</td>\n",
       "      <td>1014.872143</td>\n",
       "    </tr>\n",
       "    <tr>\n",
       "      <th>Dry and Partly Cloudy</th>\n",
       "      <td>26.605749</td>\n",
       "      <td>25.982235</td>\n",
       "      <td>0.240814</td>\n",
       "      <td>12.304519</td>\n",
       "      <td>10.987501</td>\n",
       "      <td>224.465116</td>\n",
       "      <td>1017.242558</td>\n",
       "    </tr>\n",
       "    <tr>\n",
       "      <th>Foggy</th>\n",
       "      <td>1.464035</td>\n",
       "      <td>-0.210419</td>\n",
       "      <td>0.950765</td>\n",
       "      <td>7.171649</td>\n",
       "      <td>1.551411</td>\n",
       "      <td>168.668439</td>\n",
       "      <td>1007.475207</td>\n",
       "    </tr>\n",
       "    <tr>\n",
       "      <th>Humid and Mostly Cloudy</th>\n",
       "      <td>20.886389</td>\n",
       "      <td>20.886389</td>\n",
       "      <td>0.874250</td>\n",
       "      <td>10.058877</td>\n",
       "      <td>9.732852</td>\n",
       "      <td>153.425000</td>\n",
       "      <td>1012.887250</td>\n",
       "    </tr>\n",
       "    <tr>\n",
       "      <th>Humid and Overcast</th>\n",
       "      <td>21.515079</td>\n",
       "      <td>21.515079</td>\n",
       "      <td>0.881429</td>\n",
       "      <td>9.740500</td>\n",
       "      <td>9.052800</td>\n",
       "      <td>138.857143</td>\n",
       "      <td>1014.550000</td>\n",
       "    </tr>\n",
       "    <tr>\n",
       "      <th>Humid and Partly Cloudy</th>\n",
       "      <td>21.568301</td>\n",
       "      <td>21.568301</td>\n",
       "      <td>0.848824</td>\n",
       "      <td>9.938435</td>\n",
       "      <td>10.633576</td>\n",
       "      <td>201.647059</td>\n",
       "      <td>1011.974118</td>\n",
       "    </tr>\n",
       "    <tr>\n",
       "      <th>Light Rain</th>\n",
       "      <td>10.021517</td>\n",
       "      <td>8.560317</td>\n",
       "      <td>0.888095</td>\n",
       "      <td>14.673489</td>\n",
       "      <td>6.657989</td>\n",
       "      <td>180.761905</td>\n",
       "      <td>1011.054762</td>\n",
       "    </tr>\n",
       "    <tr>\n",
       "      <th>Mostly Cloudy</th>\n",
       "      <td>12.629334</td>\n",
       "      <td>11.624994</td>\n",
       "      <td>0.725069</td>\n",
       "      <td>11.418404</td>\n",
       "      <td>11.117234</td>\n",
       "      <td>192.049299</td>\n",
       "      <td>1010.840591</td>\n",
       "    </tr>\n",
       "    <tr>\n",
       "      <th>Overcast</th>\n",
       "      <td>7.516502</td>\n",
       "      <td>5.789636</td>\n",
       "      <td>0.837232</td>\n",
       "      <td>12.027738</td>\n",
       "      <td>9.275112</td>\n",
       "      <td>183.532747</td>\n",
       "      <td>1005.632402</td>\n",
       "    </tr>\n",
       "    <tr>\n",
       "      <th>Partly Cloudy</th>\n",
       "      <td>16.024782</td>\n",
       "      <td>15.394033</td>\n",
       "      <td>0.648571</td>\n",
       "      <td>10.115130</td>\n",
       "      <td>11.811517</td>\n",
       "      <td>190.161094</td>\n",
       "      <td>1013.079063</td>\n",
       "    </tr>\n",
       "    <tr>\n",
       "      <th>Rain</th>\n",
       "      <td>10.096111</td>\n",
       "      <td>9.607222</td>\n",
       "      <td>0.947000</td>\n",
       "      <td>5.797610</td>\n",
       "      <td>1.779050</td>\n",
       "      <td>211.800000</td>\n",
       "      <td>1017.318000</td>\n",
       "    </tr>\n",
       "    <tr>\n",
       "      <th>Windy</th>\n",
       "      <td>6.804861</td>\n",
       "      <td>2.009028</td>\n",
       "      <td>0.572500</td>\n",
       "      <td>42.165900</td>\n",
       "      <td>10.712537</td>\n",
       "      <td>319.750000</td>\n",
       "      <td>127.376250</td>\n",
       "    </tr>\n",
       "    <tr>\n",
       "      <th>Windy and Dry</th>\n",
       "      <td>27.222222</td>\n",
       "      <td>26.344444</td>\n",
       "      <td>0.240000</td>\n",
       "      <td>40.250000</td>\n",
       "      <td>9.982000</td>\n",
       "      <td>150.000000</td>\n",
       "      <td>1020.200000</td>\n",
       "    </tr>\n",
       "    <tr>\n",
       "      <th>Windy and Foggy</th>\n",
       "      <td>11.876389</td>\n",
       "      <td>9.769444</td>\n",
       "      <td>0.900000</td>\n",
       "      <td>44.178400</td>\n",
       "      <td>1.903825</td>\n",
       "      <td>155.000000</td>\n",
       "      <td>1011.975000</td>\n",
       "    </tr>\n",
       "    <tr>\n",
       "      <th>Windy and Mostly Cloudy</th>\n",
       "      <td>11.834603</td>\n",
       "      <td>9.754286</td>\n",
       "      <td>0.600000</td>\n",
       "      <td>43.117640</td>\n",
       "      <td>11.159600</td>\n",
       "      <td>261.428571</td>\n",
       "      <td>979.825143</td>\n",
       "    </tr>\n",
       "    <tr>\n",
       "      <th>Windy and Overcast</th>\n",
       "      <td>7.932963</td>\n",
       "      <td>3.696543</td>\n",
       "      <td>0.708667</td>\n",
       "      <td>43.378409</td>\n",
       "      <td>9.806331</td>\n",
       "      <td>244.311111</td>\n",
       "      <td>1006.446000</td>\n",
       "    </tr>\n",
       "    <tr>\n",
       "      <th>Windy and Partly Cloudy</th>\n",
       "      <td>9.968076</td>\n",
       "      <td>6.551244</td>\n",
       "      <td>0.528806</td>\n",
       "      <td>44.610937</td>\n",
       "      <td>11.484106</td>\n",
       "      <td>295.119403</td>\n",
       "      <td>953.291194</td>\n",
       "    </tr>\n",
       "  </tbody>\n",
       "</table>\n",
       "</div>"
      ],
      "text/plain": [
       "                                          temp   temp_app  humidity  \\\n",
       "                                          mean       mean      mean   \n",
       "Summary                                                               \n",
       "Breezy                                7.922016   3.387654  0.637778   \n",
       "Breezy and Dry                       21.111111  21.111111  0.260000   \n",
       "Breezy and Foggy                     -0.510317  -7.403492  0.938571   \n",
       "Breezy and Mostly Cloudy             11.093411   8.680588  0.637054   \n",
       "Breezy and Overcast                   7.241614   3.492235  0.763144   \n",
       "Breezy and Partly Cloudy             12.492761   9.989349  0.545803   \n",
       "Clear                                11.925109  11.040338  0.729708   \n",
       "Dangerously Windy and Partly Cloudy   8.944444   3.483333  0.490000   \n",
       "Drizzle                              10.847578  10.011681  0.867949   \n",
       "Dry                                  29.083660  28.273529  0.230294   \n",
       "Dry and Mostly Cloudy                26.838492  25.929365  0.242143   \n",
       "Dry and Partly Cloudy                26.605749  25.982235  0.240814   \n",
       "Foggy                                 1.464035  -0.210419  0.950765   \n",
       "Humid and Mostly Cloudy              20.886389  20.886389  0.874250   \n",
       "Humid and Overcast                   21.515079  21.515079  0.881429   \n",
       "Humid and Partly Cloudy              21.568301  21.568301  0.848824   \n",
       "Light Rain                           10.021517   8.560317  0.888095   \n",
       "Mostly Cloudy                        12.629334  11.624994  0.725069   \n",
       "Overcast                              7.516502   5.789636  0.837232   \n",
       "Partly Cloudy                        16.024782  15.394033  0.648571   \n",
       "Rain                                 10.096111   9.607222  0.947000   \n",
       "Windy                                 6.804861   2.009028  0.572500   \n",
       "Windy and Dry                        27.222222  26.344444  0.240000   \n",
       "Windy and Foggy                      11.876389   9.769444  0.900000   \n",
       "Windy and Mostly Cloudy              11.834603   9.754286  0.600000   \n",
       "Windy and Overcast                    7.932963   3.696543  0.708667   \n",
       "Windy and Partly Cloudy               9.968076   6.551244  0.528806   \n",
       "\n",
       "                                    wind_speed visibility wind_bearing  \\\n",
       "                                          mean       mean         mean   \n",
       "Summary                                                                  \n",
       "Breezy                               32.143948   9.577115   233.018519   \n",
       "Breezy and Dry                       33.810000   9.982000   240.000000   \n",
       "Breezy and Foggy                     33.477880   1.621960   160.628571   \n",
       "Breezy and Mostly Cloudy             33.386345  11.478302   227.639535   \n",
       "Breezy and Overcast                  33.037566  11.067012   213.526515   \n",
       "Breezy and Partly Cloudy             33.532796  11.326058   259.282383   \n",
       "Clear                                 8.141352  11.441788   179.180257   \n",
       "Dangerously Windy and Partly Cloudy  63.852600  11.447100   307.000000   \n",
       "Drizzle                              10.356428   8.069815   177.307692   \n",
       "Dry                                  14.713979  10.250965   230.294118   \n",
       "Dry and Mostly Cloudy                13.667750  10.115400   187.785714   \n",
       "Dry and Partly Cloudy                12.304519  10.987501   224.465116   \n",
       "Foggy                                 7.171649   1.551411   168.668439   \n",
       "Humid and Mostly Cloudy              10.058877   9.732852   153.425000   \n",
       "Humid and Overcast                    9.740500   9.052800   138.857143   \n",
       "Humid and Partly Cloudy               9.938435  10.633576   201.647059   \n",
       "Light Rain                           14.673489   6.657989   180.761905   \n",
       "Mostly Cloudy                        11.418404  11.117234   192.049299   \n",
       "Overcast                             12.027738   9.275112   183.532747   \n",
       "Partly Cloudy                        10.115130  11.811517   190.161094   \n",
       "Rain                                  5.797610   1.779050   211.800000   \n",
       "Windy                                42.165900  10.712537   319.750000   \n",
       "Windy and Dry                        40.250000   9.982000   150.000000   \n",
       "Windy and Foggy                      44.178400   1.903825   155.000000   \n",
       "Windy and Mostly Cloudy              43.117640  11.159600   261.428571   \n",
       "Windy and Overcast                   43.378409   9.806331   244.311111   \n",
       "Windy and Partly Cloudy              44.610937  11.484106   295.119403   \n",
       "\n",
       "                                        pressure  \n",
       "                                            mean  \n",
       "Summary                                           \n",
       "Breezy                                563.917593  \n",
       "Breezy and Dry                       1021.600000  \n",
       "Breezy and Foggy                     1008.934000  \n",
       "Breezy and Mostly Cloudy             1000.622984  \n",
       "Breezy and Overcast                  1002.114924  \n",
       "Breezy and Partly Cloudy              996.398212  \n",
       "Clear                                 951.763532  \n",
       "Dangerously Windy and Partly Cloudy  1009.050000  \n",
       "Drizzle                              1014.931538  \n",
       "Dry                                  1016.391765  \n",
       "Dry and Mostly Cloudy                1014.872143  \n",
       "Dry and Partly Cloudy                1017.242558  \n",
       "Foggy                                1007.475207  \n",
       "Humid and Mostly Cloudy              1012.887250  \n",
       "Humid and Overcast                   1014.550000  \n",
       "Humid and Partly Cloudy              1011.974118  \n",
       "Light Rain                           1011.054762  \n",
       "Mostly Cloudy                        1010.840591  \n",
       "Overcast                             1005.632402  \n",
       "Partly Cloudy                        1013.079063  \n",
       "Rain                                 1017.318000  \n",
       "Windy                                 127.376250  \n",
       "Windy and Dry                        1020.200000  \n",
       "Windy and Foggy                      1011.975000  \n",
       "Windy and Mostly Cloudy               979.825143  \n",
       "Windy and Overcast                   1006.446000  \n",
       "Windy and Partly Cloudy               953.291194  "
      ]
     },
     "execution_count": 67,
     "metadata": {},
     "output_type": "execute_result"
    }
   ],
   "source": [
    "weather_hist.groupby('Summary').agg(['mean'])"
   ]
  },
  {
   "cell_type": "markdown",
   "metadata": {},
   "source": [
    "## Домашнее задание 1\n",
    "Проанализируйте данные и найдите самый холодный и самый ветренный дни в Сегеде за всю имеющуюся историю.\n",
    "\n",
    "Узнайте сколько раз шел дождь летом 2014 года.\n",
    "\n",
    "Сгруппируйтей данные по годам, месяцам и неделям (по отдельности) и найдите:\n",
    "\n",
    "1) самый ветрянный месяц\n",
    "2) самый влажный год\n",
    "3) неделю с самой переменчивой погодой (там, где отклонение какого-то или нескольких признаков самое большое)"
   ]
  },
  {
   "cell_type": "markdown",
   "metadata": {},
   "source": [
    "Для работы с датами вам пригодится [pd.to_datetime](https://pandas.pydata.org/pandas-docs/stable/reference/api/pandas.to_datetime.html)\n",
    "\n",
    "Ещё полезно будет пройтись по первому заниятию из [ml_course.ai](https://mlcourse.ai/) - https://habr.com/ru/company/ods/blog/322626/"
   ]
  },
  {
   "cell_type": "markdown",
   "metadata": {},
   "source": [
    "## Регрессия в sklearn"
   ]
  },
  {
   "cell_type": "markdown",
   "metadata": {},
   "source": [
    "Давайте теперь попробуем предсказывать какую-то из колонок. Для простоты оставим только численные колонки. \n"
   ]
  },
  {
   "cell_type": "code",
   "execution_count": 68,
   "metadata": {},
   "outputs": [],
   "source": [
    "# можно переопределить датасет его частью\n",
    "weather_hist = weather_hist[['temp',\n",
    "       'temp_app', 'humidity', 'wind_speed',\n",
    "       'wind_bearing', 'visibility', 'pressure']]"
   ]
  },
  {
   "cell_type": "markdown",
   "metadata": {},
   "source": [
    "Попробуем несколько базовых регрессоров в sklearn."
   ]
  },
  {
   "cell_type": "code",
   "execution_count": 79,
   "metadata": {},
   "outputs": [],
   "source": [
    "from sklearn.linear_model import LinearRegression, Ridge, Lasso, ElasticNet\n",
    "from sklearn.svm import LinearSVR"
   ]
  },
  {
   "cell_type": "markdown",
   "metadata": {},
   "source": [
    "Sklearn умееть работать и с dataframe из пандаса (если там только числа), но часто матрицу объекты-признаки и целевую переменную удобно вынести в отдельные переменные в виде numpy массива. "
   ]
  },
  {
   "cell_type": "code",
   "execution_count": 70,
   "metadata": {},
   "outputs": [],
   "source": [
    "X = weather_hist.drop('wind_speed', axis=1).values\n",
    "y = weather_hist['wind_speed'].values"
   ]
  },
  {
   "cell_type": "code",
   "execution_count": 71,
   "metadata": {},
   "outputs": [],
   "source": [
    "from sklearn.model_selection import train_test_split"
   ]
  },
  {
   "cell_type": "markdown",
   "metadata": {},
   "source": [
    "Валидация (т.е. проверка качеста) моделей отдельная сложная тема, но главное правило простое - не оценивай качество модели на данных, на которых обучался. Просто отложенная тестовая выборка уже спасет от большинства проблем. "
   ]
  },
  {
   "cell_type": "code",
   "execution_count": 72,
   "metadata": {},
   "outputs": [],
   "source": [
    "X_train, X_test, y_train, y_test = train_test_split(X, y, random_state=42)"
   ]
  },
  {
   "cell_type": "markdown",
   "metadata": {},
   "source": [
    "Ridge - это линейная регрессия с l2 регуляризацией. То есть строится модель, которая суммирует признаки с каким-то весами, чтобы получить предсказание. Веса подбираются во время обучения и на их значение накладывается ограничение (регуляризация), так чтобы они не получались слишком большими."
   ]
  },
  {
   "cell_type": "code",
   "execution_count": 85,
   "metadata": {},
   "outputs": [
    {
     "data": {
      "text/plain": [
       "Lasso(alpha=10, copy_X=True, fit_intercept=True, max_iter=1000,\n",
       "   normalize=False, positive=False, precompute=False, random_state=None,\n",
       "   selection='cyclic', tol=0.0001, warm_start=False)"
      ]
     },
     "execution_count": 85,
     "metadata": {},
     "output_type": "execute_result"
    }
   ],
   "source": [
    "# силу регуляризации можно варьировать параметром alpha\n",
    "regressor = Lasso(alpha=10)\n",
    "regressor.fit(X_train, y_train)"
   ]
  },
  {
   "cell_type": "code",
   "execution_count": 86,
   "metadata": {},
   "outputs": [
    {
     "data": {
      "text/plain": [
       "[('temp', 0.0),\n",
       " ('temp_app', -0.0),\n",
       " ('humidity', -0.0),\n",
       " ('wind_speed', 0.005622381164772534),\n",
       " ('wind_bearing', 0.0),\n",
       " ('visibility', -0.0021509345515767597)]"
      ]
     },
     "execution_count": 86,
     "metadata": {},
     "output_type": "execute_result"
    }
   ],
   "source": [
    "list(zip(weather_hist.columns, regressor.coef_))"
   ]
  },
  {
   "cell_type": "markdown",
   "metadata": {},
   "source": [
    "Чтобы оценить качество модели, предскажем значения целевой переменной на тестовой выборке и сравним с настоящими значениями."
   ]
  },
  {
   "cell_type": "code",
   "execution_count": 76,
   "metadata": {},
   "outputs": [],
   "source": [
    "preds = regressor.predict(X_test)"
   ]
  },
  {
   "cell_type": "markdown",
   "metadata": {},
   "source": [
    "В качестве метрики будем использовать среднюю абсолютную ошибку. Она показывает отклонение от правильного ответа в тех же единах измерения."
   ]
  },
  {
   "cell_type": "code",
   "execution_count": 77,
   "metadata": {},
   "outputs": [],
   "source": [
    "from sklearn.metrics import mean_absolute_error"
   ]
  },
  {
   "cell_type": "code",
   "execution_count": 78,
   "metadata": {},
   "outputs": [
    {
     "data": {
      "text/plain": [
       "4.119277729666935"
      ]
     },
     "execution_count": 78,
     "metadata": {},
     "output_type": "execute_result"
    }
   ],
   "source": [
    "mean_absolute_error(y_test, preds)"
   ]
  },
  {
   "cell_type": "code",
   "execution_count": null,
   "metadata": {},
   "outputs": [],
   "source": []
  },
  {
   "cell_type": "markdown",
   "metadata": {},
   "source": [
    "Т.е. в среднем мы ошибаемся в скорости ветра на 4 км/ч"
   ]
  },
  {
   "cell_type": "markdown",
   "metadata": {},
   "source": [
    "Попробуем другие алгоритмы."
   ]
  },
  {
   "cell_type": "markdown",
   "metadata": {},
   "source": [
    "Иногда бывает полезно стандартизировать данные (отнять среднее и поделить на стандартное отклонение). После стандартизации среднее всех колонок будет равно 0, а стандартное отклонение 1. Это позволяет исправить ситуацию, когда признаки представлены в разных единацах измерения. \n",
    "Для этого используется StandardScaler. "
   ]
  },
  {
   "cell_type": "code",
   "execution_count": 38,
   "metadata": {},
   "outputs": [],
   "source": [
    "from sklearn.preprocessing import StandardScaler"
   ]
  },
  {
   "cell_type": "code",
   "execution_count": 39,
   "metadata": {},
   "outputs": [],
   "source": [
    "sc = StandardScaler()\n",
    "X_train, X_test, y_train, y_test = train_test_split(sc.fit_transform(X), y, random_state=42)"
   ]
  },
  {
   "cell_type": "markdown",
   "metadata": {},
   "source": [
    "До стандартизации:"
   ]
  },
  {
   "cell_type": "code",
   "execution_count": 40,
   "metadata": {},
   "outputs": [
    {
     "data": {
      "text/plain": [
       "[9.472222222222221,\n",
       " 7.388888888888887,\n",
       " 0.89,\n",
       " 251.0,\n",
       " 15.826300000000002,\n",
       " 1015.13]"
      ]
     },
     "execution_count": 40,
     "metadata": {},
     "output_type": "execute_result"
    }
   ],
   "source": [
    "list(X[0])"
   ]
  },
  {
   "cell_type": "markdown",
   "metadata": {},
   "source": [
    "После:"
   ]
  },
  {
   "cell_type": "code",
   "execution_count": 41,
   "metadata": {},
   "outputs": [
    {
     "data": {
      "text/plain": [
       "[-0.2594808561597769,\n",
       " -0.3265377477383117,\n",
       " 0.7926624413965685,\n",
       " 0.591888531901622,\n",
       " 1.3005175654507883,\n",
       " -0.2165173590801981]"
      ]
     },
     "execution_count": 41,
     "metadata": {},
     "output_type": "execute_result"
    }
   ],
   "source": [
    "list(sc.fit_transform(X)[0])"
   ]
  },
  {
   "cell_type": "code",
   "execution_count": 42,
   "metadata": {},
   "outputs": [
    {
     "data": {
      "text/plain": [
       "4.0498391481920475"
      ]
     },
     "execution_count": 42,
     "metadata": {},
     "output_type": "execute_result"
    }
   ],
   "source": [
    "regressor = Ridge()\n",
    "regressor.fit(X_train, y_train)\n",
    "preds = regressor.predict(X_test)\n",
    "mean_absolute_error(y_test, preds)"
   ]
  },
  {
   "cell_type": "code",
   "execution_count": 43,
   "metadata": {},
   "outputs": [
    {
     "data": {
      "text/plain": [
       "4.049473722959159"
      ]
     },
     "execution_count": 43,
     "metadata": {},
     "output_type": "execute_result"
    }
   ],
   "source": [
    "regressor = Ridge(alpha=0.01)\n",
    "regressor.fit(X_train, y_train)\n",
    "preds = regressor.predict(X_test)\n",
    "mean_absolute_error(y_test, preds)"
   ]
  },
  {
   "cell_type": "markdown",
   "metadata": {},
   "source": [
    "Lasso - линейная регрессия с l1 регуляризацией. Она немного медленее Ridge и обычно работает немного хуже, но она позволяет проводить отбор признаков."
   ]
  },
  {
   "cell_type": "code",
   "execution_count": 44,
   "metadata": {},
   "outputs": [
    {
     "data": {
      "text/plain": [
       "5.100549160777688"
      ]
     },
     "execution_count": 44,
     "metadata": {},
     "output_type": "execute_result"
    }
   ],
   "source": [
    "regressor = Lasso(alpha=1)\n",
    "regressor.fit(X_train, y_train)\n",
    "preds = regressor.predict(X_test)\n",
    "mean_absolute_error(y_test, preds)"
   ]
  },
  {
   "cell_type": "code",
   "execution_count": 45,
   "metadata": {},
   "outputs": [
    {
     "data": {
      "text/plain": [
       "[('temp', -0.0),\n",
       " ('temp_app', -0.0),\n",
       " ('humidity', -0.5172190895813394),\n",
       " ('wind_speed', 0.0),\n",
       " ('wind_bearing', 0.0),\n",
       " ('visibility', -0.7418107638971679)]"
      ]
     },
     "execution_count": 45,
     "metadata": {},
     "output_type": "execute_result"
    }
   ],
   "source": [
    "list(zip(weather_hist.columns, regressor.coef_))"
   ]
  },
  {
   "cell_type": "markdown",
   "metadata": {},
   "source": [
    "Такая модель использует для предсказания только влажность. В реальной задаче, нулевые признаки можно выбросить, для того, чтобы упросить модель (если качество устраивает конечно)."
   ]
  },
  {
   "cell_type": "markdown",
   "metadata": {},
   "source": [
    "Попробуем SVM. Вообще SVM лучше подходит для классификации. Для регрессии в итоге получается такая же модель как и в линейной регрессии (прямая == взвешенная сумма признаков). Только подбор параметров тут происходит по-другому и поэтому результат может отличаться."
   ]
  },
  {
   "cell_type": "code",
   "execution_count": 46,
   "metadata": {},
   "outputs": [
    {
     "data": {
      "text/plain": [
       "3.9243397901552832"
      ]
     },
     "execution_count": 46,
     "metadata": {},
     "output_type": "execute_result"
    }
   ],
   "source": [
    "regressor = LinearSVR(C=1)\n",
    "regressor.fit(X_train, y_train)\n",
    "preds = regressor.predict(X_test)\n",
    "mean_absolute_error(y_test, preds)"
   ]
  },
  {
   "cell_type": "markdown",
   "metadata": {},
   "source": [
    "Качество даже немного улучшилось."
   ]
  },
  {
   "cell_type": "markdown",
   "metadata": {},
   "source": [
    "## Регрессия на тексте"
   ]
  },
  {
   "cell_type": "markdown",
   "metadata": {},
   "source": [
    "При работе с текстом, как правило, приходится решать задачу классификации. Но бывают и случаи, где по тексту нужно предсказать число. Например, на Kaggle проводилось соревнование по прогнозированию вероятности покупки товара.   \n",
    "Ссылка на соревнование - https://www.kaggle.com/c/avito-demand-prediction\n",
    "\n",
    "Одним из признаков там было текстовое описание товара. \n",
    "\n",
    "Давайте выкинем все остальные признаки и попробуем только по тексту предсказать вероятность покупки. Алгоритмы тут можно использовать те же самые, но сами тексты нужны предварительно векторизовать."
   ]
  },
  {
   "cell_type": "markdown",
   "metadata": {},
   "source": [
    "Изначальный датасет достаточно большой, поэтому возьмем случайную подвыборку из него. (Я сделал это за вас. Если хотите поработать со всеми данными, скачайте их на сайте соревнования (только train.csv, иначе придется 123 гб скачивать) и раскомментируйте ячейки ниже)"
   ]
  },
  {
   "cell_type": "code",
   "execution_count": 137,
   "metadata": {
    "scrolled": true
   },
   "outputs": [],
   "source": [
    "# data = pd.read_csv('train.csv.zip')\n",
    "# data.dropna(subset=['description'], inplace=True) # так выкидываются строчки с пропусками в колонке description"
   ]
  },
  {
   "cell_type": "code",
   "execution_count": null,
   "metadata": {},
   "outputs": [],
   "source": [
    "data = data.sample(frac=0.08)"
   ]
  },
  {
   "cell_type": "code",
   "execution_count": 49,
   "metadata": {},
   "outputs": [],
   "source": [
    "# data.to_csv('data.csv', index=None)"
   ]
  },
  {
   "cell_type": "code",
   "execution_count": 131,
   "metadata": {},
   "outputs": [],
   "source": [
    "data = pd.read_csv('data.csv')"
   ]
  },
  {
   "cell_type": "code",
   "execution_count": 132,
   "metadata": {},
   "outputs": [
    {
     "data": {
      "text/plain": [
       "(138715, 18)"
      ]
     },
     "execution_count": 132,
     "metadata": {},
     "output_type": "execute_result"
    }
   ],
   "source": [
    "data.shape"
   ]
  },
  {
   "cell_type": "code",
   "execution_count": 136,
   "metadata": {},
   "outputs": [
    {
     "data": {
      "text/html": [
       "<div>\n",
       "<style scoped>\n",
       "    .dataframe tbody tr th:only-of-type {\n",
       "        vertical-align: middle;\n",
       "    }\n",
       "\n",
       "    .dataframe tbody tr th {\n",
       "        vertical-align: top;\n",
       "    }\n",
       "\n",
       "    .dataframe thead th {\n",
       "        text-align: right;\n",
       "    }\n",
       "</style>\n",
       "<table border=\"1\" class=\"dataframe\">\n",
       "  <thead>\n",
       "    <tr style=\"text-align: right;\">\n",
       "      <th></th>\n",
       "      <th>parent_category_name</th>\n",
       "      <th>category_name</th>\n",
       "      <th>param_1</th>\n",
       "      <th>param_2</th>\n",
       "      <th>param_3</th>\n",
       "      <th>title</th>\n",
       "      <th>description</th>\n",
       "      <th>price</th>\n",
       "      <th>item_seq_number</th>\n",
       "      <th>activation_date</th>\n",
       "      <th>user_type</th>\n",
       "      <th>image_top_1</th>\n",
       "      <th>deal_probability</th>\n",
       "    </tr>\n",
       "  </thead>\n",
       "  <tbody>\n",
       "    <tr>\n",
       "      <th>0</th>\n",
       "      <td>Бытовая электроника</td>\n",
       "      <td>Телефоны</td>\n",
       "      <td>Xiaomi</td>\n",
       "      <td>NaN</td>\n",
       "      <td>NaN</td>\n",
       "      <td>Xiaomi RedMI 4a</td>\n",
       "      <td>Телефон новый, не использованный, в заводской ...</td>\n",
       "      <td>6900.0</td>\n",
       "      <td>22</td>\n",
       "      <td>2017-03-26</td>\n",
       "      <td>Private</td>\n",
       "      <td>2944.0</td>\n",
       "      <td>0.16933</td>\n",
       "    </tr>\n",
       "    <tr>\n",
       "      <th>1</th>\n",
       "      <td>Транспорт</td>\n",
       "      <td>Автомобили</td>\n",
       "      <td>С пробегом</td>\n",
       "      <td>Audi</td>\n",
       "      <td>Q5</td>\n",
       "      <td>Audi Q5, 2009</td>\n",
       "      <td>Продам автомобиль AUDI SUV Stronic Quattro 2.0...</td>\n",
       "      <td>890000.0</td>\n",
       "      <td>6</td>\n",
       "      <td>2017-03-16</td>\n",
       "      <td>Private</td>\n",
       "      <td>1132.0</td>\n",
       "      <td>0.26029</td>\n",
       "    </tr>\n",
       "    <tr>\n",
       "      <th>2</th>\n",
       "      <td>Личные вещи</td>\n",
       "      <td>Детская одежда и обувь</td>\n",
       "      <td>Для мальчиков</td>\n",
       "      <td>Верхняя одежда</td>\n",
       "      <td>98-104 см (2-4 года)</td>\n",
       "      <td>Толстовка очень теплая</td>\n",
       "      <td>на меху, очень теплая, хорошее состояние , бол...</td>\n",
       "      <td>500.0</td>\n",
       "      <td>123</td>\n",
       "      <td>2017-03-27</td>\n",
       "      <td>Private</td>\n",
       "      <td>61.0</td>\n",
       "      <td>0.80323</td>\n",
       "    </tr>\n",
       "    <tr>\n",
       "      <th>3</th>\n",
       "      <td>Бытовая электроника</td>\n",
       "      <td>Телефоны</td>\n",
       "      <td>iPhone</td>\n",
       "      <td>NaN</td>\n",
       "      <td>NaN</td>\n",
       "      <td>Продаю айфон 6 16 гб сильвер с зарядкой,без ко...</td>\n",
       "      <td>Продаю айфон 6 16 гб сильвер с зарядкой,без ко...</td>\n",
       "      <td>23000.0</td>\n",
       "      <td>7</td>\n",
       "      <td>2017-03-15</td>\n",
       "      <td>Private</td>\n",
       "      <td>2918.0</td>\n",
       "      <td>0.03486</td>\n",
       "    </tr>\n",
       "    <tr>\n",
       "      <th>4</th>\n",
       "      <td>Животные</td>\n",
       "      <td>Аквариум</td>\n",
       "      <td>NaN</td>\n",
       "      <td>NaN</td>\n",
       "      <td>NaN</td>\n",
       "      <td>Аквариум</td>\n",
       "      <td>Аквариум для маленьких рыбок+корм+грунт+подста...</td>\n",
       "      <td>1000.0</td>\n",
       "      <td>109</td>\n",
       "      <td>2017-03-25</td>\n",
       "      <td>Company</td>\n",
       "      <td>1718.0</td>\n",
       "      <td>0.00000</td>\n",
       "    </tr>\n",
       "  </tbody>\n",
       "</table>\n",
       "</div>"
      ],
      "text/plain": [
       "  parent_category_name           category_name        param_1         param_2  \\\n",
       "0  Бытовая электроника                Телефоны         Xiaomi             NaN   \n",
       "1            Транспорт              Автомобили     С пробегом            Audi   \n",
       "2          Личные вещи  Детская одежда и обувь  Для мальчиков  Верхняя одежда   \n",
       "3  Бытовая электроника                Телефоны         iPhone             NaN   \n",
       "4             Животные                Аквариум            NaN             NaN   \n",
       "\n",
       "                param_3                                              title  \\\n",
       "0                   NaN                                    Xiaomi RedMI 4a   \n",
       "1                    Q5                                      Audi Q5, 2009   \n",
       "2  98-104 см (2-4 года)                             Толстовка очень теплая   \n",
       "3                   NaN  Продаю айфон 6 16 гб сильвер с зарядкой,без ко...   \n",
       "4                   NaN                                           Аквариум   \n",
       "\n",
       "                                         description     price  \\\n",
       "0  Телефон новый, не использованный, в заводской ...    6900.0   \n",
       "1  Продам автомобиль AUDI SUV Stronic Quattro 2.0...  890000.0   \n",
       "2  на меху, очень теплая, хорошее состояние , бол...     500.0   \n",
       "3  Продаю айфон 6 16 гб сильвер с зарядкой,без ко...   23000.0   \n",
       "4  Аквариум для маленьких рыбок+корм+грунт+подста...    1000.0   \n",
       "\n",
       "   item_seq_number activation_date user_type  image_top_1  deal_probability  \n",
       "0               22      2017-03-26   Private       2944.0           0.16933  \n",
       "1                6      2017-03-16   Private       1132.0           0.26029  \n",
       "2              123      2017-03-27   Private         61.0           0.80323  \n",
       "3                7      2017-03-15   Private       2918.0           0.03486  \n",
       "4              109      2017-03-25   Company       1718.0           0.00000  "
      ]
     },
     "execution_count": 136,
     "metadata": {},
     "output_type": "execute_result"
    }
   ],
   "source": [
    "data.head(5)"
   ]
  },
  {
   "cell_type": "code",
   "execution_count": null,
   "metadata": {},
   "outputs": [],
   "source": []
  },
  {
   "cell_type": "markdown",
   "metadata": {},
   "source": [
    "Чтобы понимать, что наши модели делают что-то полезное, посчитаем качество для случайного предсказания и для предсказания средей вероятности."
   ]
  },
  {
   "cell_type": "markdown",
   "metadata": {},
   "source": [
    "В соревновании была другая метрика - RMSE. Её нет в sklearn, но её легко сделать из MSE и np.sqrt\n",
    "\n",
    "Если хотите получше узнать о numpy, поделайте упражнения в этом репозитории - https://github.com/Kyubyong/numpy_exercises"
   ]
  },
  {
   "cell_type": "code",
   "execution_count": 93,
   "metadata": {},
   "outputs": [],
   "source": [
    "import numpy as np\n",
    "from sklearn.metrics import mean_squared_error"
   ]
  },
  {
   "cell_type": "code",
   "execution_count": 94,
   "metadata": {},
   "outputs": [],
   "source": [
    "y_train, y_test = train_test_split(data.deal_probability, random_state=42)"
   ]
  },
  {
   "cell_type": "markdown",
   "metadata": {},
   "source": [
    "Cлучайное предсказание"
   ]
  },
  {
   "cell_type": "code",
   "execution_count": 95,
   "metadata": {},
   "outputs": [
    {
     "data": {
      "text/plain": [
       "array([0.93165905, 0.24946652, 0.96071886, ..., 0.74287804, 0.06574641,\n",
       "       0.01829222])"
      ]
     },
     "execution_count": 95,
     "metadata": {},
     "output_type": "execute_result"
    }
   ],
   "source": [
    "np.random.rand(len(y_test))"
   ]
  },
  {
   "cell_type": "code",
   "execution_count": 98,
   "metadata": {},
   "outputs": [
    {
     "data": {
      "text/plain": [
       "0.5285613167194422"
      ]
     },
     "execution_count": 98,
     "metadata": {},
     "output_type": "execute_result"
    }
   ],
   "source": [
    "np.sqrt(mean_squared_error(y_test, np.random.rand(len(y_test))))"
   ]
  },
  {
   "cell_type": "markdown",
   "metadata": {},
   "source": [
    "Среднее предсказание "
   ]
  },
  {
   "cell_type": "code",
   "execution_count": 99,
   "metadata": {},
   "outputs": [
    {
     "data": {
      "text/plain": [
       "array([0.14566944, 0.14566944, 0.14566944, ..., 0.14566944, 0.14566944,\n",
       "       0.14566944])"
      ]
     },
     "execution_count": 99,
     "metadata": {},
     "output_type": "execute_result"
    }
   ],
   "source": [
    "np.full(len(y_test), np.mean(y_train))"
   ]
  },
  {
   "cell_type": "code",
   "execution_count": 100,
   "metadata": {},
   "outputs": [
    {
     "data": {
      "text/plain": [
       "0.26367475849307315"
      ]
     },
     "execution_count": 100,
     "metadata": {},
     "output_type": "execute_result"
    }
   ],
   "source": [
    "np.sqrt(mean_squared_error(y_test, np.full(len(y_test), np.mean(y_train))))"
   ]
  },
  {
   "cell_type": "markdown",
   "metadata": {},
   "source": [
    "Можно посчитать статистики по тексту и на этом обучить модель."
   ]
  },
  {
   "cell_type": "code",
   "execution_count": 101,
   "metadata": {},
   "outputs": [],
   "source": [
    "data['text_len'] = data['description'].apply(len)\n",
    "data['text_len_tokens'] = data['description'].apply(lambda x: len(x.split()))\n",
    "data['number_of_caps'] = data['description'].apply(lambda x: len([ch for ch in x if ch.isupper()]))\n",
    "data['number_of_nonalphanum'] = data['description'].apply(lambda x: len([ch for ch in x if not ch.isalnum()]))"
   ]
  },
  {
   "cell_type": "code",
   "execution_count": 102,
   "metadata": {},
   "outputs": [],
   "source": [
    "X = data[['text_len', 'text_len_tokens', 'number_of_caps', 'number_of_nonalphanum']].values\n",
    "y = data.deal_probability.values"
   ]
  },
  {
   "cell_type": "markdown",
   "metadata": {},
   "source": [
    "Проверим размер получившейся матрицы."
   ]
  },
  {
   "cell_type": "code",
   "execution_count": 103,
   "metadata": {},
   "outputs": [
    {
     "data": {
      "text/plain": [
       "(138715, 4)"
      ]
     },
     "execution_count": 103,
     "metadata": {},
     "output_type": "execute_result"
    }
   ],
   "source": [
    "X.shape"
   ]
  },
  {
   "cell_type": "code",
   "execution_count": 104,
   "metadata": {},
   "outputs": [],
   "source": [
    "X_train, X_test, y_train, y_test = train_test_split(X, y, random_state=42)"
   ]
  },
  {
   "cell_type": "code",
   "execution_count": 105,
   "metadata": {},
   "outputs": [
    {
     "data": {
      "text/plain": [
       "0.2633314826860365"
      ]
     },
     "execution_count": 105,
     "metadata": {},
     "output_type": "execute_result"
    }
   ],
   "source": [
    "regressor = Ridge(alpha=1)\n",
    "regressor.fit(X_train, y_train)\n",
    "preds = regressor.predict(X_test)\n",
    "np.sqrt(mean_squared_error(y_test, preds))"
   ]
  },
  {
   "cell_type": "markdown",
   "metadata": {},
   "source": [
    "Для векторизации можно использовать CountVectorizer или TfidfVectorizer. Они собирают словарь слов, которые используются в данных и с помощью него составляют вектора, в которых ненулевые значения показывают, что в конкретном тексте есть соответствующие слова из словаря.\n",
    "\n",
    "В CountVectrizer значения - частоты слов в тексте, а в TfidfVectorizer - частоты, домноженные на idf."
   ]
  },
  {
   "cell_type": "code",
   "execution_count": 107,
   "metadata": {},
   "outputs": [],
   "source": [
    "from sklearn.feature_extraction.text import CountVectorizer, TfidfVectorizer"
   ]
  },
  {
   "cell_type": "code",
   "execution_count": 108,
   "metadata": {},
   "outputs": [],
   "source": [
    "cv = CountVectorizer(max_features=1000, min_df=5, max_df=0.4, ngram_range=(1,2))\n",
    "X = cv.fit_transform(data.description)\n",
    "y = data.deal_probability.values"
   ]
  },
  {
   "cell_type": "code",
   "execution_count": 109,
   "metadata": {},
   "outputs": [
    {
     "data": {
      "text/plain": [
       "(138715, 1000)"
      ]
     },
     "execution_count": 109,
     "metadata": {},
     "output_type": "execute_result"
    }
   ],
   "source": [
    "X.shape"
   ]
  },
  {
   "cell_type": "code",
   "execution_count": 110,
   "metadata": {},
   "outputs": [],
   "source": [
    "X_train, X_test, y_train, y_test = train_test_split(X, y, random_state=42)"
   ]
  },
  {
   "cell_type": "code",
   "execution_count": 111,
   "metadata": {},
   "outputs": [
    {
     "data": {
      "text/plain": [
       "0.25122001490550927"
      ]
     },
     "execution_count": 111,
     "metadata": {},
     "output_type": "execute_result"
    }
   ],
   "source": [
    "regressor = Ridge(alpha=10)\n",
    "regressor.fit(X_train, y_train)\n",
    "preds = regressor.predict(X_test)\n",
    "np.sqrt(mean_squared_error(y_test, preds))"
   ]
  },
  {
   "cell_type": "code",
   "execution_count": null,
   "metadata": {},
   "outputs": [],
   "source": []
  },
  {
   "cell_type": "code",
   "execution_count": 112,
   "metadata": {},
   "outputs": [],
   "source": [
    "cv = TfidfVectorizer(max_features=1000, min_df=5, max_df=0.4)\n",
    "X = cv.fit_transform(data.description)\n",
    "y = data.deal_probability.values"
   ]
  },
  {
   "cell_type": "code",
   "execution_count": 113,
   "metadata": {},
   "outputs": [],
   "source": [
    "X_train, X_test, y_train, y_test = train_test_split(X, y, random_state=42)"
   ]
  },
  {
   "cell_type": "code",
   "execution_count": 118,
   "metadata": {},
   "outputs": [
    {
     "data": {
      "text/plain": [
       "0.24837284431865686"
      ]
     },
     "execution_count": 118,
     "metadata": {},
     "output_type": "execute_result"
    }
   ],
   "source": [
    "regressor = Ridge(alpha=1)\n",
    "regressor.fit(X_train, y_train)\n",
    "preds = regressor.predict(X_test)\n",
    "np.sqrt(mean_squared_error(y_test, preds))"
   ]
  },
  {
   "cell_type": "markdown",
   "metadata": {},
   "source": [
    "Когда данных много, то обычные модели в sklearn могут работать долго или занимать слишком много памяти. В этом случае может помочь SGDRegressor. Это та же линейная регрессия (или SVM если поменять loss), но обучающая на кусочках данных (батчах). Можно настроить количество проходов по датасету (max_iter) так, чтобы качество получалось достаточно хорошее, но времени на это уходило как можно меньше. "
   ]
  },
  {
   "cell_type": "code",
   "execution_count": 115,
   "metadata": {},
   "outputs": [],
   "source": [
    "from sklearn.linear_model import SGDRegressor"
   ]
  },
  {
   "cell_type": "code",
   "execution_count": 119,
   "metadata": {},
   "outputs": [
    {
     "data": {
      "text/plain": [
       "0.25106011838562586"
      ]
     },
     "execution_count": 119,
     "metadata": {},
     "output_type": "execute_result"
    }
   ],
   "source": [
    "regressor = SGDRegressor(max_iter=10, alpha=0.00001)\n",
    "regressor.fit(X_train, y_train)\n",
    "preds = regressor.predict(X_test)\n",
    "np.sqrt(mean_squared_error(y_test, preds))"
   ]
  },
  {
   "cell_type": "code",
   "execution_count": null,
   "metadata": {},
   "outputs": [],
   "source": []
  },
  {
   "cell_type": "markdown",
   "metadata": {},
   "source": [
    "Можно попробовать объединить матрицы из CountVectorizer и TfidfVectorizer. Они возвращают sparse матрицы (т.е. там в основном нули), чтобы сэкономить память. Для конкатенации таких матриц в scipy есть функция hstack."
   ]
  },
  {
   "cell_type": "code",
   "execution_count": 120,
   "metadata": {},
   "outputs": [],
   "source": [
    "from scipy.sparse import hstack"
   ]
  },
  {
   "cell_type": "code",
   "execution_count": 121,
   "metadata": {},
   "outputs": [],
   "source": [
    "cv = CountVectorizer(max_features=1000, min_df=5, max_df=0.4, ngram_range=(1,2))\n",
    "tfidf = TfidfVectorizer(max_features=1000, min_df=5,analyzer='char', ngram_range=(3,3), max_df=0.4)\n",
    "\n",
    "X_cv = cv.fit_transform(data.description)\n",
    "X_tfidf = tfidf.fit_transform(data.description)\n",
    "\n",
    "X = hstack([X_cv, X_tfidf])"
   ]
  },
  {
   "cell_type": "code",
   "execution_count": 122,
   "metadata": {},
   "outputs": [
    {
     "data": {
      "text/plain": [
       "((138715, 1000), (138715, 1000))"
      ]
     },
     "execution_count": 122,
     "metadata": {},
     "output_type": "execute_result"
    }
   ],
   "source": [
    "X_cv.shape, X_tfidf.shape"
   ]
  },
  {
   "cell_type": "code",
   "execution_count": 123,
   "metadata": {},
   "outputs": [
    {
     "data": {
      "text/plain": [
       "(138715, 2000)"
      ]
     },
     "execution_count": 123,
     "metadata": {},
     "output_type": "execute_result"
    }
   ],
   "source": [
    "X.shape"
   ]
  },
  {
   "cell_type": "code",
   "execution_count": 124,
   "metadata": {},
   "outputs": [],
   "source": [
    "X_train, X_test, y_train, y_test = train_test_split(X, y, random_state=42)"
   ]
  },
  {
   "cell_type": "code",
   "execution_count": 125,
   "metadata": {},
   "outputs": [
    {
     "data": {
      "text/plain": [
       "0.248087194219948"
      ]
     },
     "execution_count": 125,
     "metadata": {},
     "output_type": "execute_result"
    }
   ],
   "source": [
    "regressor = SGDRegressor(max_iter=50, alpha=0.00001)\n",
    "regressor.fit(X_train, y_train)\n",
    "preds = regressor.predict(X_test)\n",
    "np.sqrt(mean_squared_error(y_test, preds))"
   ]
  },
  {
   "cell_type": "markdown",
   "metadata": {},
   "source": [
    "Для того, чтобы понять, насколько признаки объясняют целевую переменную, можно посчитать коэффициент детерминации. "
   ]
  },
  {
   "cell_type": "code",
   "execution_count": 126,
   "metadata": {},
   "outputs": [],
   "source": [
    "from sklearn.metrics import r2_score"
   ]
  },
  {
   "cell_type": "code",
   "execution_count": 127,
   "metadata": {},
   "outputs": [
    {
     "data": {
      "text/plain": [
       "0.11473846322559045"
      ]
     },
     "execution_count": 127,
     "metadata": {},
     "output_type": "execute_result"
    }
   ],
   "source": [
    "r2_score(y_test, preds)"
   ]
  },
  {
   "cell_type": "markdown",
   "metadata": {},
   "source": [
    "Для точных совпадений он будет равен 1."
   ]
  },
  {
   "cell_type": "code",
   "execution_count": 128,
   "metadata": {},
   "outputs": [
    {
     "data": {
      "text/plain": [
       "1.0"
      ]
     },
     "execution_count": 128,
     "metadata": {},
     "output_type": "execute_result"
    }
   ],
   "source": [
    "r2_score(y_test, y_test)"
   ]
  },
  {
   "cell_type": "markdown",
   "metadata": {},
   "source": [
    "Но он может сильно ниже нуля, если модель совсем плохая."
   ]
  },
  {
   "cell_type": "code",
   "execution_count": 129,
   "metadata": {},
   "outputs": [
    {
     "data": {
      "text/plain": [
       "-14379255.669139741"
      ]
     },
     "execution_count": 129,
     "metadata": {},
     "output_type": "execute_result"
    }
   ],
   "source": [
    "# всегда предсказывает тысячу\n",
    "r2_score(y_test, np.full(len(y_test), 1000))"
   ]
  },
  {
   "cell_type": "markdown",
   "metadata": {},
   "source": [
    "### Домашнее задание 2\n",
    "\n",
    "Попробуйте придумать признаки (как минимум 5), которые можно извлечь из текста, помимо тех 4, которые мы уже использовали. Обучите модель на них и проверьте, улучашается ли качество. Опишите признаки, которое придумали и почему считаете, что они должны показывать вероятность покупки.\n",
    "\n",
    "Побробуйте подобрать параметры векторизатора (TfidfVectorizer или CountVectorizer, или обоих) и параметры алгоритма так, чтобы качество, которое у нас получилось (0.248) улучшилось. Опишите то, что попробовали.\n"
   ]
  },
  {
   "cell_type": "code",
   "execution_count": null,
   "metadata": {},
   "outputs": [],
   "source": []
  }
 ],
 "metadata": {
  "kernelspec": {
   "display_name": "Python 3",
   "language": "python",
   "name": "python3"
  },
  "language_info": {
   "codemirror_mode": {
    "name": "ipython",
    "version": 3
   },
   "file_extension": ".py",
   "mimetype": "text/x-python",
   "name": "python",
   "nbconvert_exporter": "python",
   "pygments_lexer": "ipython3",
   "version": "3.6.3"
  }
 },
 "nbformat": 4,
 "nbformat_minor": 4
}
